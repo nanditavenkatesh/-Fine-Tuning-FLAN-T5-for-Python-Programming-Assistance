{
  "nbformat": 4,
  "nbformat_minor": 0,
  "metadata": {
    "colab": {
      "provenance": [],
      "machine_shape": "hm",
      "gpuType": "L4",
      "include_colab_link": true
    },
    "kernelspec": {
      "name": "python3",
      "display_name": "Python 3"
    },
    "language_info": {
      "name": "python"
    },
    "widgets": {
      "application/vnd.jupyter.widget-state+json": {
        "d397b8b37a904647b4df6d5d4a2fd96e": {
          "model_module": "@jupyter-widgets/controls",
          "model_name": "HBoxModel",
          "model_module_version": "1.5.0",
          "state": {
            "_dom_classes": [],
            "_model_module": "@jupyter-widgets/controls",
            "_model_module_version": "1.5.0",
            "_model_name": "HBoxModel",
            "_view_count": null,
            "_view_module": "@jupyter-widgets/controls",
            "_view_module_version": "1.5.0",
            "_view_name": "HBoxView",
            "box_style": "",
            "children": [
              "IPY_MODEL_77a2c9cdfd70413383ca134217bae874",
              "IPY_MODEL_1521da853140460f80498fd2eaea9cf6",
              "IPY_MODEL_f53ec1c44ba248839d7478804f222ec0"
            ],
            "layout": "IPY_MODEL_b4e2369be6cf467d8c88e83e6849550c"
          }
        },
        "77a2c9cdfd70413383ca134217bae874": {
          "model_module": "@jupyter-widgets/controls",
          "model_name": "HTMLModel",
          "model_module_version": "1.5.0",
          "state": {
            "_dom_classes": [],
            "_model_module": "@jupyter-widgets/controls",
            "_model_module_version": "1.5.0",
            "_model_name": "HTMLModel",
            "_view_count": null,
            "_view_module": "@jupyter-widgets/controls",
            "_view_module_version": "1.5.0",
            "_view_name": "HTMLView",
            "description": "",
            "description_tooltip": null,
            "layout": "IPY_MODEL_43f9df86989640f1a887bec7d190d9a3",
            "placeholder": "​",
            "style": "IPY_MODEL_e1c1267622a74a769aeffc85a39a6ebb",
            "value": "Map: 100%"
          }
        },
        "1521da853140460f80498fd2eaea9cf6": {
          "model_module": "@jupyter-widgets/controls",
          "model_name": "FloatProgressModel",
          "model_module_version": "1.5.0",
          "state": {
            "_dom_classes": [],
            "_model_module": "@jupyter-widgets/controls",
            "_model_module_version": "1.5.0",
            "_model_name": "FloatProgressModel",
            "_view_count": null,
            "_view_module": "@jupyter-widgets/controls",
            "_view_module_version": "1.5.0",
            "_view_name": "ProgressView",
            "bar_style": "success",
            "description": "",
            "description_tooltip": null,
            "layout": "IPY_MODEL_8e37d2831181424e8f2ca33e75b9fd48",
            "max": 19000,
            "min": 0,
            "orientation": "horizontal",
            "style": "IPY_MODEL_c1335e206000491ba654be4c21705edc",
            "value": 19000
          }
        },
        "f53ec1c44ba248839d7478804f222ec0": {
          "model_module": "@jupyter-widgets/controls",
          "model_name": "HTMLModel",
          "model_module_version": "1.5.0",
          "state": {
            "_dom_classes": [],
            "_model_module": "@jupyter-widgets/controls",
            "_model_module_version": "1.5.0",
            "_model_name": "HTMLModel",
            "_view_count": null,
            "_view_module": "@jupyter-widgets/controls",
            "_view_module_version": "1.5.0",
            "_view_name": "HTMLView",
            "description": "",
            "description_tooltip": null,
            "layout": "IPY_MODEL_00b6c6f755cd4725a021577a56ed3034",
            "placeholder": "​",
            "style": "IPY_MODEL_034f6aae80174e989715067250f7eefe",
            "value": " 19000/19000 [00:38&lt;00:00, 472.39 examples/s]"
          }
        },
        "b4e2369be6cf467d8c88e83e6849550c": {
          "model_module": "@jupyter-widgets/base",
          "model_name": "LayoutModel",
          "model_module_version": "1.2.0",
          "state": {
            "_model_module": "@jupyter-widgets/base",
            "_model_module_version": "1.2.0",
            "_model_name": "LayoutModel",
            "_view_count": null,
            "_view_module": "@jupyter-widgets/base",
            "_view_module_version": "1.2.0",
            "_view_name": "LayoutView",
            "align_content": null,
            "align_items": null,
            "align_self": null,
            "border": null,
            "bottom": null,
            "display": null,
            "flex": null,
            "flex_flow": null,
            "grid_area": null,
            "grid_auto_columns": null,
            "grid_auto_flow": null,
            "grid_auto_rows": null,
            "grid_column": null,
            "grid_gap": null,
            "grid_row": null,
            "grid_template_areas": null,
            "grid_template_columns": null,
            "grid_template_rows": null,
            "height": null,
            "justify_content": null,
            "justify_items": null,
            "left": null,
            "margin": null,
            "max_height": null,
            "max_width": null,
            "min_height": null,
            "min_width": null,
            "object_fit": null,
            "object_position": null,
            "order": null,
            "overflow": null,
            "overflow_x": null,
            "overflow_y": null,
            "padding": null,
            "right": null,
            "top": null,
            "visibility": null,
            "width": null
          }
        },
        "43f9df86989640f1a887bec7d190d9a3": {
          "model_module": "@jupyter-widgets/base",
          "model_name": "LayoutModel",
          "model_module_version": "1.2.0",
          "state": {
            "_model_module": "@jupyter-widgets/base",
            "_model_module_version": "1.2.0",
            "_model_name": "LayoutModel",
            "_view_count": null,
            "_view_module": "@jupyter-widgets/base",
            "_view_module_version": "1.2.0",
            "_view_name": "LayoutView",
            "align_content": null,
            "align_items": null,
            "align_self": null,
            "border": null,
            "bottom": null,
            "display": null,
            "flex": null,
            "flex_flow": null,
            "grid_area": null,
            "grid_auto_columns": null,
            "grid_auto_flow": null,
            "grid_auto_rows": null,
            "grid_column": null,
            "grid_gap": null,
            "grid_row": null,
            "grid_template_areas": null,
            "grid_template_columns": null,
            "grid_template_rows": null,
            "height": null,
            "justify_content": null,
            "justify_items": null,
            "left": null,
            "margin": null,
            "max_height": null,
            "max_width": null,
            "min_height": null,
            "min_width": null,
            "object_fit": null,
            "object_position": null,
            "order": null,
            "overflow": null,
            "overflow_x": null,
            "overflow_y": null,
            "padding": null,
            "right": null,
            "top": null,
            "visibility": null,
            "width": null
          }
        },
        "e1c1267622a74a769aeffc85a39a6ebb": {
          "model_module": "@jupyter-widgets/controls",
          "model_name": "DescriptionStyleModel",
          "model_module_version": "1.5.0",
          "state": {
            "_model_module": "@jupyter-widgets/controls",
            "_model_module_version": "1.5.0",
            "_model_name": "DescriptionStyleModel",
            "_view_count": null,
            "_view_module": "@jupyter-widgets/base",
            "_view_module_version": "1.2.0",
            "_view_name": "StyleView",
            "description_width": ""
          }
        },
        "8e37d2831181424e8f2ca33e75b9fd48": {
          "model_module": "@jupyter-widgets/base",
          "model_name": "LayoutModel",
          "model_module_version": "1.2.0",
          "state": {
            "_model_module": "@jupyter-widgets/base",
            "_model_module_version": "1.2.0",
            "_model_name": "LayoutModel",
            "_view_count": null,
            "_view_module": "@jupyter-widgets/base",
            "_view_module_version": "1.2.0",
            "_view_name": "LayoutView",
            "align_content": null,
            "align_items": null,
            "align_self": null,
            "border": null,
            "bottom": null,
            "display": null,
            "flex": null,
            "flex_flow": null,
            "grid_area": null,
            "grid_auto_columns": null,
            "grid_auto_flow": null,
            "grid_auto_rows": null,
            "grid_column": null,
            "grid_gap": null,
            "grid_row": null,
            "grid_template_areas": null,
            "grid_template_columns": null,
            "grid_template_rows": null,
            "height": null,
            "justify_content": null,
            "justify_items": null,
            "left": null,
            "margin": null,
            "max_height": null,
            "max_width": null,
            "min_height": null,
            "min_width": null,
            "object_fit": null,
            "object_position": null,
            "order": null,
            "overflow": null,
            "overflow_x": null,
            "overflow_y": null,
            "padding": null,
            "right": null,
            "top": null,
            "visibility": null,
            "width": null
          }
        },
        "c1335e206000491ba654be4c21705edc": {
          "model_module": "@jupyter-widgets/controls",
          "model_name": "ProgressStyleModel",
          "model_module_version": "1.5.0",
          "state": {
            "_model_module": "@jupyter-widgets/controls",
            "_model_module_version": "1.5.0",
            "_model_name": "ProgressStyleModel",
            "_view_count": null,
            "_view_module": "@jupyter-widgets/base",
            "_view_module_version": "1.2.0",
            "_view_name": "StyleView",
            "bar_color": null,
            "description_width": ""
          }
        },
        "00b6c6f755cd4725a021577a56ed3034": {
          "model_module": "@jupyter-widgets/base",
          "model_name": "LayoutModel",
          "model_module_version": "1.2.0",
          "state": {
            "_model_module": "@jupyter-widgets/base",
            "_model_module_version": "1.2.0",
            "_model_name": "LayoutModel",
            "_view_count": null,
            "_view_module": "@jupyter-widgets/base",
            "_view_module_version": "1.2.0",
            "_view_name": "LayoutView",
            "align_content": null,
            "align_items": null,
            "align_self": null,
            "border": null,
            "bottom": null,
            "display": null,
            "flex": null,
            "flex_flow": null,
            "grid_area": null,
            "grid_auto_columns": null,
            "grid_auto_flow": null,
            "grid_auto_rows": null,
            "grid_column": null,
            "grid_gap": null,
            "grid_row": null,
            "grid_template_areas": null,
            "grid_template_columns": null,
            "grid_template_rows": null,
            "height": null,
            "justify_content": null,
            "justify_items": null,
            "left": null,
            "margin": null,
            "max_height": null,
            "max_width": null,
            "min_height": null,
            "min_width": null,
            "object_fit": null,
            "object_position": null,
            "order": null,
            "overflow": null,
            "overflow_x": null,
            "overflow_y": null,
            "padding": null,
            "right": null,
            "top": null,
            "visibility": null,
            "width": null
          }
        },
        "034f6aae80174e989715067250f7eefe": {
          "model_module": "@jupyter-widgets/controls",
          "model_name": "DescriptionStyleModel",
          "model_module_version": "1.5.0",
          "state": {
            "_model_module": "@jupyter-widgets/controls",
            "_model_module_version": "1.5.0",
            "_model_name": "DescriptionStyleModel",
            "_view_count": null,
            "_view_module": "@jupyter-widgets/base",
            "_view_module_version": "1.2.0",
            "_view_name": "StyleView",
            "description_width": ""
          }
        },
        "e1b7cc6336aa4849bb8485ef309b286e": {
          "model_module": "@jupyter-widgets/controls",
          "model_name": "HBoxModel",
          "model_module_version": "1.5.0",
          "state": {
            "_dom_classes": [],
            "_model_module": "@jupyter-widgets/controls",
            "_model_module_version": "1.5.0",
            "_model_name": "HBoxModel",
            "_view_count": null,
            "_view_module": "@jupyter-widgets/controls",
            "_view_module_version": "1.5.0",
            "_view_name": "HBoxView",
            "box_style": "",
            "children": [
              "IPY_MODEL_d42f0a6007f9469aa390305ed2949b10",
              "IPY_MODEL_69b9c89aeb334fbe9d1c24a0366593fb",
              "IPY_MODEL_c72f7cf7953e482b9d2f628a22cf548b"
            ],
            "layout": "IPY_MODEL_7eb936b09a83443989bcbc5d9b9f748f"
          }
        },
        "d42f0a6007f9469aa390305ed2949b10": {
          "model_module": "@jupyter-widgets/controls",
          "model_name": "HTMLModel",
          "model_module_version": "1.5.0",
          "state": {
            "_dom_classes": [],
            "_model_module": "@jupyter-widgets/controls",
            "_model_module_version": "1.5.0",
            "_model_name": "HTMLModel",
            "_view_count": null,
            "_view_module": "@jupyter-widgets/controls",
            "_view_module_version": "1.5.0",
            "_view_name": "HTMLView",
            "description": "",
            "description_tooltip": null,
            "layout": "IPY_MODEL_c346651f927947cabbc9b0db0d19b624",
            "placeholder": "​",
            "style": "IPY_MODEL_3c2a8e181ef84f29a608567ccc65dcbc",
            "value": "Map: 100%"
          }
        },
        "69b9c89aeb334fbe9d1c24a0366593fb": {
          "model_module": "@jupyter-widgets/controls",
          "model_name": "FloatProgressModel",
          "model_module_version": "1.5.0",
          "state": {
            "_dom_classes": [],
            "_model_module": "@jupyter-widgets/controls",
            "_model_module_version": "1.5.0",
            "_model_name": "FloatProgressModel",
            "_view_count": null,
            "_view_module": "@jupyter-widgets/controls",
            "_view_module_version": "1.5.0",
            "_view_name": "ProgressView",
            "bar_style": "success",
            "description": "",
            "description_tooltip": null,
            "layout": "IPY_MODEL_fb5faedc8ce94544b2bc79758ce111b6",
            "max": 1000,
            "min": 0,
            "orientation": "horizontal",
            "style": "IPY_MODEL_0b021130252b41f19689d2f8d4a6ade9",
            "value": 1000
          }
        },
        "c72f7cf7953e482b9d2f628a22cf548b": {
          "model_module": "@jupyter-widgets/controls",
          "model_name": "HTMLModel",
          "model_module_version": "1.5.0",
          "state": {
            "_dom_classes": [],
            "_model_module": "@jupyter-widgets/controls",
            "_model_module_version": "1.5.0",
            "_model_name": "HTMLModel",
            "_view_count": null,
            "_view_module": "@jupyter-widgets/controls",
            "_view_module_version": "1.5.0",
            "_view_name": "HTMLView",
            "description": "",
            "description_tooltip": null,
            "layout": "IPY_MODEL_06ccb76ff90d417a8698096bcfde3b0a",
            "placeholder": "​",
            "style": "IPY_MODEL_99203907512c4be6aa773409a9e2beea",
            "value": " 1000/1000 [00:02&lt;00:00, 502.26 examples/s]"
          }
        },
        "7eb936b09a83443989bcbc5d9b9f748f": {
          "model_module": "@jupyter-widgets/base",
          "model_name": "LayoutModel",
          "model_module_version": "1.2.0",
          "state": {
            "_model_module": "@jupyter-widgets/base",
            "_model_module_version": "1.2.0",
            "_model_name": "LayoutModel",
            "_view_count": null,
            "_view_module": "@jupyter-widgets/base",
            "_view_module_version": "1.2.0",
            "_view_name": "LayoutView",
            "align_content": null,
            "align_items": null,
            "align_self": null,
            "border": null,
            "bottom": null,
            "display": null,
            "flex": null,
            "flex_flow": null,
            "grid_area": null,
            "grid_auto_columns": null,
            "grid_auto_flow": null,
            "grid_auto_rows": null,
            "grid_column": null,
            "grid_gap": null,
            "grid_row": null,
            "grid_template_areas": null,
            "grid_template_columns": null,
            "grid_template_rows": null,
            "height": null,
            "justify_content": null,
            "justify_items": null,
            "left": null,
            "margin": null,
            "max_height": null,
            "max_width": null,
            "min_height": null,
            "min_width": null,
            "object_fit": null,
            "object_position": null,
            "order": null,
            "overflow": null,
            "overflow_x": null,
            "overflow_y": null,
            "padding": null,
            "right": null,
            "top": null,
            "visibility": null,
            "width": null
          }
        },
        "c346651f927947cabbc9b0db0d19b624": {
          "model_module": "@jupyter-widgets/base",
          "model_name": "LayoutModel",
          "model_module_version": "1.2.0",
          "state": {
            "_model_module": "@jupyter-widgets/base",
            "_model_module_version": "1.2.0",
            "_model_name": "LayoutModel",
            "_view_count": null,
            "_view_module": "@jupyter-widgets/base",
            "_view_module_version": "1.2.0",
            "_view_name": "LayoutView",
            "align_content": null,
            "align_items": null,
            "align_self": null,
            "border": null,
            "bottom": null,
            "display": null,
            "flex": null,
            "flex_flow": null,
            "grid_area": null,
            "grid_auto_columns": null,
            "grid_auto_flow": null,
            "grid_auto_rows": null,
            "grid_column": null,
            "grid_gap": null,
            "grid_row": null,
            "grid_template_areas": null,
            "grid_template_columns": null,
            "grid_template_rows": null,
            "height": null,
            "justify_content": null,
            "justify_items": null,
            "left": null,
            "margin": null,
            "max_height": null,
            "max_width": null,
            "min_height": null,
            "min_width": null,
            "object_fit": null,
            "object_position": null,
            "order": null,
            "overflow": null,
            "overflow_x": null,
            "overflow_y": null,
            "padding": null,
            "right": null,
            "top": null,
            "visibility": null,
            "width": null
          }
        },
        "3c2a8e181ef84f29a608567ccc65dcbc": {
          "model_module": "@jupyter-widgets/controls",
          "model_name": "DescriptionStyleModel",
          "model_module_version": "1.5.0",
          "state": {
            "_model_module": "@jupyter-widgets/controls",
            "_model_module_version": "1.5.0",
            "_model_name": "DescriptionStyleModel",
            "_view_count": null,
            "_view_module": "@jupyter-widgets/base",
            "_view_module_version": "1.2.0",
            "_view_name": "StyleView",
            "description_width": ""
          }
        },
        "fb5faedc8ce94544b2bc79758ce111b6": {
          "model_module": "@jupyter-widgets/base",
          "model_name": "LayoutModel",
          "model_module_version": "1.2.0",
          "state": {
            "_model_module": "@jupyter-widgets/base",
            "_model_module_version": "1.2.0",
            "_model_name": "LayoutModel",
            "_view_count": null,
            "_view_module": "@jupyter-widgets/base",
            "_view_module_version": "1.2.0",
            "_view_name": "LayoutView",
            "align_content": null,
            "align_items": null,
            "align_self": null,
            "border": null,
            "bottom": null,
            "display": null,
            "flex": null,
            "flex_flow": null,
            "grid_area": null,
            "grid_auto_columns": null,
            "grid_auto_flow": null,
            "grid_auto_rows": null,
            "grid_column": null,
            "grid_gap": null,
            "grid_row": null,
            "grid_template_areas": null,
            "grid_template_columns": null,
            "grid_template_rows": null,
            "height": null,
            "justify_content": null,
            "justify_items": null,
            "left": null,
            "margin": null,
            "max_height": null,
            "max_width": null,
            "min_height": null,
            "min_width": null,
            "object_fit": null,
            "object_position": null,
            "order": null,
            "overflow": null,
            "overflow_x": null,
            "overflow_y": null,
            "padding": null,
            "right": null,
            "top": null,
            "visibility": null,
            "width": null
          }
        },
        "0b021130252b41f19689d2f8d4a6ade9": {
          "model_module": "@jupyter-widgets/controls",
          "model_name": "ProgressStyleModel",
          "model_module_version": "1.5.0",
          "state": {
            "_model_module": "@jupyter-widgets/controls",
            "_model_module_version": "1.5.0",
            "_model_name": "ProgressStyleModel",
            "_view_count": null,
            "_view_module": "@jupyter-widgets/base",
            "_view_module_version": "1.2.0",
            "_view_name": "StyleView",
            "bar_color": null,
            "description_width": ""
          }
        },
        "06ccb76ff90d417a8698096bcfde3b0a": {
          "model_module": "@jupyter-widgets/base",
          "model_name": "LayoutModel",
          "model_module_version": "1.2.0",
          "state": {
            "_model_module": "@jupyter-widgets/base",
            "_model_module_version": "1.2.0",
            "_model_name": "LayoutModel",
            "_view_count": null,
            "_view_module": "@jupyter-widgets/base",
            "_view_module_version": "1.2.0",
            "_view_name": "LayoutView",
            "align_content": null,
            "align_items": null,
            "align_self": null,
            "border": null,
            "bottom": null,
            "display": null,
            "flex": null,
            "flex_flow": null,
            "grid_area": null,
            "grid_auto_columns": null,
            "grid_auto_flow": null,
            "grid_auto_rows": null,
            "grid_column": null,
            "grid_gap": null,
            "grid_row": null,
            "grid_template_areas": null,
            "grid_template_columns": null,
            "grid_template_rows": null,
            "height": null,
            "justify_content": null,
            "justify_items": null,
            "left": null,
            "margin": null,
            "max_height": null,
            "max_width": null,
            "min_height": null,
            "min_width": null,
            "object_fit": null,
            "object_position": null,
            "order": null,
            "overflow": null,
            "overflow_x": null,
            "overflow_y": null,
            "padding": null,
            "right": null,
            "top": null,
            "visibility": null,
            "width": null
          }
        },
        "99203907512c4be6aa773409a9e2beea": {
          "model_module": "@jupyter-widgets/controls",
          "model_name": "DescriptionStyleModel",
          "model_module_version": "1.5.0",
          "state": {
            "_model_module": "@jupyter-widgets/controls",
            "_model_module_version": "1.5.0",
            "_model_name": "DescriptionStyleModel",
            "_view_count": null,
            "_view_module": "@jupyter-widgets/base",
            "_view_module_version": "1.2.0",
            "_view_name": "StyleView",
            "description_width": ""
          }
        },
        "87a4b38aefc44d62ace0bcdae345bda9": {
          "model_module": "@jupyter-widgets/controls",
          "model_name": "HBoxModel",
          "model_module_version": "1.5.0",
          "state": {
            "_dom_classes": [],
            "_model_module": "@jupyter-widgets/controls",
            "_model_module_version": "1.5.0",
            "_model_name": "HBoxModel",
            "_view_count": null,
            "_view_module": "@jupyter-widgets/controls",
            "_view_module_version": "1.5.0",
            "_view_name": "HBoxView",
            "box_style": "",
            "children": [
              "IPY_MODEL_59b91b47a07a4aeba88417a4d73c035b",
              "IPY_MODEL_48b19e106bce40e386bbc550d1cde4c0",
              "IPY_MODEL_e0388415a585440eaed2a5d02cc7df50"
            ],
            "layout": "IPY_MODEL_a6dc86d1120d415cb656e93db195cbce"
          }
        },
        "59b91b47a07a4aeba88417a4d73c035b": {
          "model_module": "@jupyter-widgets/controls",
          "model_name": "HTMLModel",
          "model_module_version": "1.5.0",
          "state": {
            "_dom_classes": [],
            "_model_module": "@jupyter-widgets/controls",
            "_model_module_version": "1.5.0",
            "_model_name": "HTMLModel",
            "_view_count": null,
            "_view_module": "@jupyter-widgets/controls",
            "_view_module_version": "1.5.0",
            "_view_name": "HTMLView",
            "description": "",
            "description_tooltip": null,
            "layout": "IPY_MODEL_8a631d10f50f4613a07cbba8d19fe57d",
            "placeholder": "​",
            "style": "IPY_MODEL_f7200dec67294709b0f2d6465e4b9858",
            "value": "Map: 100%"
          }
        },
        "48b19e106bce40e386bbc550d1cde4c0": {
          "model_module": "@jupyter-widgets/controls",
          "model_name": "FloatProgressModel",
          "model_module_version": "1.5.0",
          "state": {
            "_dom_classes": [],
            "_model_module": "@jupyter-widgets/controls",
            "_model_module_version": "1.5.0",
            "_model_name": "FloatProgressModel",
            "_view_count": null,
            "_view_module": "@jupyter-widgets/controls",
            "_view_module_version": "1.5.0",
            "_view_name": "ProgressView",
            "bar_style": "success",
            "description": "",
            "description_tooltip": null,
            "layout": "IPY_MODEL_23540f9a6f0a4f7a83b5454754e2c8d9",
            "max": 2000,
            "min": 0,
            "orientation": "horizontal",
            "style": "IPY_MODEL_cfec927d26ab4febbc3b769d20cf2e5c",
            "value": 2000
          }
        },
        "e0388415a585440eaed2a5d02cc7df50": {
          "model_module": "@jupyter-widgets/controls",
          "model_name": "HTMLModel",
          "model_module_version": "1.5.0",
          "state": {
            "_dom_classes": [],
            "_model_module": "@jupyter-widgets/controls",
            "_model_module_version": "1.5.0",
            "_model_name": "HTMLModel",
            "_view_count": null,
            "_view_module": "@jupyter-widgets/controls",
            "_view_module_version": "1.5.0",
            "_view_name": "HTMLView",
            "description": "",
            "description_tooltip": null,
            "layout": "IPY_MODEL_3180a82a8f2a4e18a5bc1e94a8fe2d6e",
            "placeholder": "​",
            "style": "IPY_MODEL_1a058b379703445b96550b7bde18fdc0",
            "value": " 2000/2000 [00:04&lt;00:00, 504.33 examples/s]"
          }
        },
        "a6dc86d1120d415cb656e93db195cbce": {
          "model_module": "@jupyter-widgets/base",
          "model_name": "LayoutModel",
          "model_module_version": "1.2.0",
          "state": {
            "_model_module": "@jupyter-widgets/base",
            "_model_module_version": "1.2.0",
            "_model_name": "LayoutModel",
            "_view_count": null,
            "_view_module": "@jupyter-widgets/base",
            "_view_module_version": "1.2.0",
            "_view_name": "LayoutView",
            "align_content": null,
            "align_items": null,
            "align_self": null,
            "border": null,
            "bottom": null,
            "display": null,
            "flex": null,
            "flex_flow": null,
            "grid_area": null,
            "grid_auto_columns": null,
            "grid_auto_flow": null,
            "grid_auto_rows": null,
            "grid_column": null,
            "grid_gap": null,
            "grid_row": null,
            "grid_template_areas": null,
            "grid_template_columns": null,
            "grid_template_rows": null,
            "height": null,
            "justify_content": null,
            "justify_items": null,
            "left": null,
            "margin": null,
            "max_height": null,
            "max_width": null,
            "min_height": null,
            "min_width": null,
            "object_fit": null,
            "object_position": null,
            "order": null,
            "overflow": null,
            "overflow_x": null,
            "overflow_y": null,
            "padding": null,
            "right": null,
            "top": null,
            "visibility": null,
            "width": null
          }
        },
        "8a631d10f50f4613a07cbba8d19fe57d": {
          "model_module": "@jupyter-widgets/base",
          "model_name": "LayoutModel",
          "model_module_version": "1.2.0",
          "state": {
            "_model_module": "@jupyter-widgets/base",
            "_model_module_version": "1.2.0",
            "_model_name": "LayoutModel",
            "_view_count": null,
            "_view_module": "@jupyter-widgets/base",
            "_view_module_version": "1.2.0",
            "_view_name": "LayoutView",
            "align_content": null,
            "align_items": null,
            "align_self": null,
            "border": null,
            "bottom": null,
            "display": null,
            "flex": null,
            "flex_flow": null,
            "grid_area": null,
            "grid_auto_columns": null,
            "grid_auto_flow": null,
            "grid_auto_rows": null,
            "grid_column": null,
            "grid_gap": null,
            "grid_row": null,
            "grid_template_areas": null,
            "grid_template_columns": null,
            "grid_template_rows": null,
            "height": null,
            "justify_content": null,
            "justify_items": null,
            "left": null,
            "margin": null,
            "max_height": null,
            "max_width": null,
            "min_height": null,
            "min_width": null,
            "object_fit": null,
            "object_position": null,
            "order": null,
            "overflow": null,
            "overflow_x": null,
            "overflow_y": null,
            "padding": null,
            "right": null,
            "top": null,
            "visibility": null,
            "width": null
          }
        },
        "f7200dec67294709b0f2d6465e4b9858": {
          "model_module": "@jupyter-widgets/controls",
          "model_name": "DescriptionStyleModel",
          "model_module_version": "1.5.0",
          "state": {
            "_model_module": "@jupyter-widgets/controls",
            "_model_module_version": "1.5.0",
            "_model_name": "DescriptionStyleModel",
            "_view_count": null,
            "_view_module": "@jupyter-widgets/base",
            "_view_module_version": "1.2.0",
            "_view_name": "StyleView",
            "description_width": ""
          }
        },
        "23540f9a6f0a4f7a83b5454754e2c8d9": {
          "model_module": "@jupyter-widgets/base",
          "model_name": "LayoutModel",
          "model_module_version": "1.2.0",
          "state": {
            "_model_module": "@jupyter-widgets/base",
            "_model_module_version": "1.2.0",
            "_model_name": "LayoutModel",
            "_view_count": null,
            "_view_module": "@jupyter-widgets/base",
            "_view_module_version": "1.2.0",
            "_view_name": "LayoutView",
            "align_content": null,
            "align_items": null,
            "align_self": null,
            "border": null,
            "bottom": null,
            "display": null,
            "flex": null,
            "flex_flow": null,
            "grid_area": null,
            "grid_auto_columns": null,
            "grid_auto_flow": null,
            "grid_auto_rows": null,
            "grid_column": null,
            "grid_gap": null,
            "grid_row": null,
            "grid_template_areas": null,
            "grid_template_columns": null,
            "grid_template_rows": null,
            "height": null,
            "justify_content": null,
            "justify_items": null,
            "left": null,
            "margin": null,
            "max_height": null,
            "max_width": null,
            "min_height": null,
            "min_width": null,
            "object_fit": null,
            "object_position": null,
            "order": null,
            "overflow": null,
            "overflow_x": null,
            "overflow_y": null,
            "padding": null,
            "right": null,
            "top": null,
            "visibility": null,
            "width": null
          }
        },
        "cfec927d26ab4febbc3b769d20cf2e5c": {
          "model_module": "@jupyter-widgets/controls",
          "model_name": "ProgressStyleModel",
          "model_module_version": "1.5.0",
          "state": {
            "_model_module": "@jupyter-widgets/controls",
            "_model_module_version": "1.5.0",
            "_model_name": "ProgressStyleModel",
            "_view_count": null,
            "_view_module": "@jupyter-widgets/base",
            "_view_module_version": "1.2.0",
            "_view_name": "StyleView",
            "bar_color": null,
            "description_width": ""
          }
        },
        "3180a82a8f2a4e18a5bc1e94a8fe2d6e": {
          "model_module": "@jupyter-widgets/base",
          "model_name": "LayoutModel",
          "model_module_version": "1.2.0",
          "state": {
            "_model_module": "@jupyter-widgets/base",
            "_model_module_version": "1.2.0",
            "_model_name": "LayoutModel",
            "_view_count": null,
            "_view_module": "@jupyter-widgets/base",
            "_view_module_version": "1.2.0",
            "_view_name": "LayoutView",
            "align_content": null,
            "align_items": null,
            "align_self": null,
            "border": null,
            "bottom": null,
            "display": null,
            "flex": null,
            "flex_flow": null,
            "grid_area": null,
            "grid_auto_columns": null,
            "grid_auto_flow": null,
            "grid_auto_rows": null,
            "grid_column": null,
            "grid_gap": null,
            "grid_row": null,
            "grid_template_areas": null,
            "grid_template_columns": null,
            "grid_template_rows": null,
            "height": null,
            "justify_content": null,
            "justify_items": null,
            "left": null,
            "margin": null,
            "max_height": null,
            "max_width": null,
            "min_height": null,
            "min_width": null,
            "object_fit": null,
            "object_position": null,
            "order": null,
            "overflow": null,
            "overflow_x": null,
            "overflow_y": null,
            "padding": null,
            "right": null,
            "top": null,
            "visibility": null,
            "width": null
          }
        },
        "1a058b379703445b96550b7bde18fdc0": {
          "model_module": "@jupyter-widgets/controls",
          "model_name": "DescriptionStyleModel",
          "model_module_version": "1.5.0",
          "state": {
            "_model_module": "@jupyter-widgets/controls",
            "_model_module_version": "1.5.0",
            "_model_name": "DescriptionStyleModel",
            "_view_count": null,
            "_view_module": "@jupyter-widgets/base",
            "_view_module_version": "1.2.0",
            "_view_name": "StyleView",
            "description_width": ""
          }
        },
        "20e59a8342604fb68d7407aacf7ae213": {
          "model_module": "@jupyter-widgets/controls",
          "model_name": "HBoxModel",
          "model_module_version": "1.5.0",
          "state": {
            "_dom_classes": [],
            "_model_module": "@jupyter-widgets/controls",
            "_model_module_version": "1.5.0",
            "_model_name": "HBoxModel",
            "_view_count": null,
            "_view_module": "@jupyter-widgets/controls",
            "_view_module_version": "1.5.0",
            "_view_name": "HBoxView",
            "box_style": "",
            "children": [
              "IPY_MODEL_bb51f5b24bfa46e1abf00e1f2916fb6b",
              "IPY_MODEL_783764fc21f3420e99e893ad0a02c47f",
              "IPY_MODEL_a94dfcab38734ea4a34b31239539666a"
            ],
            "layout": "IPY_MODEL_14bb2193b8b8405a8f73fc9fbc898255"
          }
        },
        "bb51f5b24bfa46e1abf00e1f2916fb6b": {
          "model_module": "@jupyter-widgets/controls",
          "model_name": "HTMLModel",
          "model_module_version": "1.5.0",
          "state": {
            "_dom_classes": [],
            "_model_module": "@jupyter-widgets/controls",
            "_model_module_version": "1.5.0",
            "_model_name": "HTMLModel",
            "_view_count": null,
            "_view_module": "@jupyter-widgets/controls",
            "_view_module_version": "1.5.0",
            "_view_name": "HTMLView",
            "description": "",
            "description_tooltip": null,
            "layout": "IPY_MODEL_1bc1ac2eadbc4fa8848d6fc8766ef1bf",
            "placeholder": "​",
            "style": "IPY_MODEL_2c9b37b41a5e4c39aa975c96e4c0b4ef",
            "value": "Downloading builder script: 100%"
          }
        },
        "783764fc21f3420e99e893ad0a02c47f": {
          "model_module": "@jupyter-widgets/controls",
          "model_name": "FloatProgressModel",
          "model_module_version": "1.5.0",
          "state": {
            "_dom_classes": [],
            "_model_module": "@jupyter-widgets/controls",
            "_model_module_version": "1.5.0",
            "_model_name": "FloatProgressModel",
            "_view_count": null,
            "_view_module": "@jupyter-widgets/controls",
            "_view_module_version": "1.5.0",
            "_view_name": "ProgressView",
            "bar_style": "success",
            "description": "",
            "description_tooltip": null,
            "layout": "IPY_MODEL_060a2d7be48b4dfdb1809e5d392b653e",
            "max": 6270,
            "min": 0,
            "orientation": "horizontal",
            "style": "IPY_MODEL_724292ed404647829ef24f52931644ef",
            "value": 6270
          }
        },
        "a94dfcab38734ea4a34b31239539666a": {
          "model_module": "@jupyter-widgets/controls",
          "model_name": "HTMLModel",
          "model_module_version": "1.5.0",
          "state": {
            "_dom_classes": [],
            "_model_module": "@jupyter-widgets/controls",
            "_model_module_version": "1.5.0",
            "_model_name": "HTMLModel",
            "_view_count": null,
            "_view_module": "@jupyter-widgets/controls",
            "_view_module_version": "1.5.0",
            "_view_name": "HTMLView",
            "description": "",
            "description_tooltip": null,
            "layout": "IPY_MODEL_31df022db47e4c989f04adf5c8662f0f",
            "placeholder": "​",
            "style": "IPY_MODEL_fbf5825574e14c639136511c5ac9a83e",
            "value": " 6.27k/6.27k [00:00&lt;00:00, 579kB/s]"
          }
        },
        "14bb2193b8b8405a8f73fc9fbc898255": {
          "model_module": "@jupyter-widgets/base",
          "model_name": "LayoutModel",
          "model_module_version": "1.2.0",
          "state": {
            "_model_module": "@jupyter-widgets/base",
            "_model_module_version": "1.2.0",
            "_model_name": "LayoutModel",
            "_view_count": null,
            "_view_module": "@jupyter-widgets/base",
            "_view_module_version": "1.2.0",
            "_view_name": "LayoutView",
            "align_content": null,
            "align_items": null,
            "align_self": null,
            "border": null,
            "bottom": null,
            "display": null,
            "flex": null,
            "flex_flow": null,
            "grid_area": null,
            "grid_auto_columns": null,
            "grid_auto_flow": null,
            "grid_auto_rows": null,
            "grid_column": null,
            "grid_gap": null,
            "grid_row": null,
            "grid_template_areas": null,
            "grid_template_columns": null,
            "grid_template_rows": null,
            "height": null,
            "justify_content": null,
            "justify_items": null,
            "left": null,
            "margin": null,
            "max_height": null,
            "max_width": null,
            "min_height": null,
            "min_width": null,
            "object_fit": null,
            "object_position": null,
            "order": null,
            "overflow": null,
            "overflow_x": null,
            "overflow_y": null,
            "padding": null,
            "right": null,
            "top": null,
            "visibility": null,
            "width": null
          }
        },
        "1bc1ac2eadbc4fa8848d6fc8766ef1bf": {
          "model_module": "@jupyter-widgets/base",
          "model_name": "LayoutModel",
          "model_module_version": "1.2.0",
          "state": {
            "_model_module": "@jupyter-widgets/base",
            "_model_module_version": "1.2.0",
            "_model_name": "LayoutModel",
            "_view_count": null,
            "_view_module": "@jupyter-widgets/base",
            "_view_module_version": "1.2.0",
            "_view_name": "LayoutView",
            "align_content": null,
            "align_items": null,
            "align_self": null,
            "border": null,
            "bottom": null,
            "display": null,
            "flex": null,
            "flex_flow": null,
            "grid_area": null,
            "grid_auto_columns": null,
            "grid_auto_flow": null,
            "grid_auto_rows": null,
            "grid_column": null,
            "grid_gap": null,
            "grid_row": null,
            "grid_template_areas": null,
            "grid_template_columns": null,
            "grid_template_rows": null,
            "height": null,
            "justify_content": null,
            "justify_items": null,
            "left": null,
            "margin": null,
            "max_height": null,
            "max_width": null,
            "min_height": null,
            "min_width": null,
            "object_fit": null,
            "object_position": null,
            "order": null,
            "overflow": null,
            "overflow_x": null,
            "overflow_y": null,
            "padding": null,
            "right": null,
            "top": null,
            "visibility": null,
            "width": null
          }
        },
        "2c9b37b41a5e4c39aa975c96e4c0b4ef": {
          "model_module": "@jupyter-widgets/controls",
          "model_name": "DescriptionStyleModel",
          "model_module_version": "1.5.0",
          "state": {
            "_model_module": "@jupyter-widgets/controls",
            "_model_module_version": "1.5.0",
            "_model_name": "DescriptionStyleModel",
            "_view_count": null,
            "_view_module": "@jupyter-widgets/base",
            "_view_module_version": "1.2.0",
            "_view_name": "StyleView",
            "description_width": ""
          }
        },
        "060a2d7be48b4dfdb1809e5d392b653e": {
          "model_module": "@jupyter-widgets/base",
          "model_name": "LayoutModel",
          "model_module_version": "1.2.0",
          "state": {
            "_model_module": "@jupyter-widgets/base",
            "_model_module_version": "1.2.0",
            "_model_name": "LayoutModel",
            "_view_count": null,
            "_view_module": "@jupyter-widgets/base",
            "_view_module_version": "1.2.0",
            "_view_name": "LayoutView",
            "align_content": null,
            "align_items": null,
            "align_self": null,
            "border": null,
            "bottom": null,
            "display": null,
            "flex": null,
            "flex_flow": null,
            "grid_area": null,
            "grid_auto_columns": null,
            "grid_auto_flow": null,
            "grid_auto_rows": null,
            "grid_column": null,
            "grid_gap": null,
            "grid_row": null,
            "grid_template_areas": null,
            "grid_template_columns": null,
            "grid_template_rows": null,
            "height": null,
            "justify_content": null,
            "justify_items": null,
            "left": null,
            "margin": null,
            "max_height": null,
            "max_width": null,
            "min_height": null,
            "min_width": null,
            "object_fit": null,
            "object_position": null,
            "order": null,
            "overflow": null,
            "overflow_x": null,
            "overflow_y": null,
            "padding": null,
            "right": null,
            "top": null,
            "visibility": null,
            "width": null
          }
        },
        "724292ed404647829ef24f52931644ef": {
          "model_module": "@jupyter-widgets/controls",
          "model_name": "ProgressStyleModel",
          "model_module_version": "1.5.0",
          "state": {
            "_model_module": "@jupyter-widgets/controls",
            "_model_module_version": "1.5.0",
            "_model_name": "ProgressStyleModel",
            "_view_count": null,
            "_view_module": "@jupyter-widgets/base",
            "_view_module_version": "1.2.0",
            "_view_name": "StyleView",
            "bar_color": null,
            "description_width": ""
          }
        },
        "31df022db47e4c989f04adf5c8662f0f": {
          "model_module": "@jupyter-widgets/base",
          "model_name": "LayoutModel",
          "model_module_version": "1.2.0",
          "state": {
            "_model_module": "@jupyter-widgets/base",
            "_model_module_version": "1.2.0",
            "_model_name": "LayoutModel",
            "_view_count": null,
            "_view_module": "@jupyter-widgets/base",
            "_view_module_version": "1.2.0",
            "_view_name": "LayoutView",
            "align_content": null,
            "align_items": null,
            "align_self": null,
            "border": null,
            "bottom": null,
            "display": null,
            "flex": null,
            "flex_flow": null,
            "grid_area": null,
            "grid_auto_columns": null,
            "grid_auto_flow": null,
            "grid_auto_rows": null,
            "grid_column": null,
            "grid_gap": null,
            "grid_row": null,
            "grid_template_areas": null,
            "grid_template_columns": null,
            "grid_template_rows": null,
            "height": null,
            "justify_content": null,
            "justify_items": null,
            "left": null,
            "margin": null,
            "max_height": null,
            "max_width": null,
            "min_height": null,
            "min_width": null,
            "object_fit": null,
            "object_position": null,
            "order": null,
            "overflow": null,
            "overflow_x": null,
            "overflow_y": null,
            "padding": null,
            "right": null,
            "top": null,
            "visibility": null,
            "width": null
          }
        },
        "fbf5825574e14c639136511c5ac9a83e": {
          "model_module": "@jupyter-widgets/controls",
          "model_name": "DescriptionStyleModel",
          "model_module_version": "1.5.0",
          "state": {
            "_model_module": "@jupyter-widgets/controls",
            "_model_module_version": "1.5.0",
            "_model_name": "DescriptionStyleModel",
            "_view_count": null,
            "_view_module": "@jupyter-widgets/base",
            "_view_module_version": "1.2.0",
            "_view_name": "StyleView",
            "description_width": ""
          }
        }
      }
    },
    "accelerator": "GPU"
  },
  "cells": [
    {
      "cell_type": "markdown",
      "metadata": {
        "id": "view-in-github",
        "colab_type": "text"
      },
      "source": [
        "<a href=\"https://colab.research.google.com/github/nanditavenkatesh/-Fine-Tuning-FLAN-T5-for-Python-Programming-Assistance/blob/main/Fine_tuning_FLAN_T5_for_Python_Question_Answering.ipynb\" target=\"_parent\"><img src=\"https://colab.research.google.com/assets/colab-badge.svg\" alt=\"Open In Colab\"/></a>"
      ]
    },
    {
      "cell_type": "markdown",
      "source": [
        "#Imports"
      ],
      "metadata": {
        "id": "8idI7nPtKAEr"
      }
    },
    {
      "cell_type": "markdown",
      "source": [
        "Sources:<br>\n",
        "https://www.datacamp.com/tutorial/flan-t5-tutorial<br>\n",
        "https://www.markhneedham.com/blog/2023/06/19/huggingface-max-length-generation-length-deprecated/<br>\n",
        "https://stackoverflow.com/questions/66091226/runtimeerror-expected-all-tensors-to-be-on-the-same-device-but-found-at-least<br>\n",
        "https://huggingface.co/docs/transformers/en/main_classes/trainer#transformers.Seq2SeqTrainer<br>"
      ],
      "metadata": {
        "id": "IYexJIPy_X4_"
      }
    },
    {
      "cell_type": "code",
      "source": [
        "%%bash\n",
        "pip install nltk\n",
        "pip install datasets\n",
        "pip install transformers[torch]\n",
        "pip install tokenizers\n",
        "pip install evaluate\n",
        "pip install rouge_score\n",
        "pip install sentencepiece\n",
        "pip install huggingface_hub"
      ],
      "metadata": {
        "colab": {
          "base_uri": "https://localhost:8080/"
        },
        "id": "pB0z7wKDDg5_",
        "outputId": "36a01150-c1dc-49c8-c263-a2bab6e1a29a"
      },
      "execution_count": null,
      "outputs": [
        {
          "output_type": "stream",
          "name": "stdout",
          "text": [
            "Requirement already satisfied: nltk in /usr/local/lib/python3.10/dist-packages (3.8.1)\n",
            "Requirement already satisfied: click in /usr/local/lib/python3.10/dist-packages (from nltk) (8.1.7)\n",
            "Requirement already satisfied: joblib in /usr/local/lib/python3.10/dist-packages (from nltk) (1.4.2)\n",
            "Requirement already satisfied: regex>=2021.8.3 in /usr/local/lib/python3.10/dist-packages (from nltk) (2023.12.25)\n",
            "Requirement already satisfied: tqdm in /usr/local/lib/python3.10/dist-packages (from nltk) (4.66.4)\n",
            "Collecting datasets\n",
            "  Downloading datasets-2.19.1-py3-none-any.whl (542 kB)\n",
            "     ━━━━━━━━━━━━━━━━━━━━━━━━━━━━━━━━━━━━━━━━ 542.0/542.0 kB 8.7 MB/s eta 0:00:00\n",
            "Requirement already satisfied: filelock in /usr/local/lib/python3.10/dist-packages (from datasets) (3.14.0)\n",
            "Requirement already satisfied: numpy>=1.17 in /usr/local/lib/python3.10/dist-packages (from datasets) (1.25.2)\n",
            "Requirement already satisfied: pyarrow>=12.0.0 in /usr/local/lib/python3.10/dist-packages (from datasets) (14.0.2)\n",
            "Requirement already satisfied: pyarrow-hotfix in /usr/local/lib/python3.10/dist-packages (from datasets) (0.6)\n",
            "Collecting dill<0.3.9,>=0.3.0 (from datasets)\n",
            "  Downloading dill-0.3.8-py3-none-any.whl (116 kB)\n",
            "     ━━━━━━━━━━━━━━━━━━━━━━━━━━━━━━━━━━━━━━━━ 116.3/116.3 kB 12.2 MB/s eta 0:00:00\n",
            "Requirement already satisfied: pandas in /usr/local/lib/python3.10/dist-packages (from datasets) (2.0.3)\n",
            "Requirement already satisfied: requests>=2.19.0 in /usr/local/lib/python3.10/dist-packages (from datasets) (2.31.0)\n",
            "Requirement already satisfied: tqdm>=4.62.1 in /usr/local/lib/python3.10/dist-packages (from datasets) (4.66.4)\n",
            "Collecting xxhash (from datasets)\n",
            "  Downloading xxhash-3.4.1-cp310-cp310-manylinux_2_17_x86_64.manylinux2014_x86_64.whl (194 kB)\n",
            "     ━━━━━━━━━━━━━━━━━━━━━━━━━━━━━━━━━━━━━━━━ 194.1/194.1 kB 11.5 MB/s eta 0:00:00\n",
            "Collecting multiprocess (from datasets)\n",
            "  Downloading multiprocess-0.70.16-py310-none-any.whl (134 kB)\n",
            "     ━━━━━━━━━━━━━━━━━━━━━━━━━━━━━━━━━━━━━━━━ 134.8/134.8 kB 14.0 MB/s eta 0:00:00\n",
            "Requirement already satisfied: fsspec[http]<=2024.3.1,>=2023.1.0 in /usr/local/lib/python3.10/dist-packages (from datasets) (2023.6.0)\n",
            "Requirement already satisfied: aiohttp in /usr/local/lib/python3.10/dist-packages (from datasets) (3.9.5)\n",
            "Collecting huggingface-hub>=0.21.2 (from datasets)\n",
            "  Downloading huggingface_hub-0.23.0-py3-none-any.whl (401 kB)\n",
            "     ━━━━━━━━━━━━━━━━━━━━━━━━━━━━━━━━━━━━━━━━ 401.2/401.2 kB 15.2 MB/s eta 0:00:00\n",
            "Requirement already satisfied: packaging in /usr/local/lib/python3.10/dist-packages (from datasets) (24.0)\n",
            "Requirement already satisfied: pyyaml>=5.1 in /usr/local/lib/python3.10/dist-packages (from datasets) (6.0.1)\n",
            "Requirement already satisfied: aiosignal>=1.1.2 in /usr/local/lib/python3.10/dist-packages (from aiohttp->datasets) (1.3.1)\n",
            "Requirement already satisfied: attrs>=17.3.0 in /usr/local/lib/python3.10/dist-packages (from aiohttp->datasets) (23.2.0)\n",
            "Requirement already satisfied: frozenlist>=1.1.1 in /usr/local/lib/python3.10/dist-packages (from aiohttp->datasets) (1.4.1)\n",
            "Requirement already satisfied: multidict<7.0,>=4.5 in /usr/local/lib/python3.10/dist-packages (from aiohttp->datasets) (6.0.5)\n",
            "Requirement already satisfied: yarl<2.0,>=1.0 in /usr/local/lib/python3.10/dist-packages (from aiohttp->datasets) (1.9.4)\n",
            "Requirement already satisfied: async-timeout<5.0,>=4.0 in /usr/local/lib/python3.10/dist-packages (from aiohttp->datasets) (4.0.3)\n",
            "Requirement already satisfied: typing-extensions>=3.7.4.3 in /usr/local/lib/python3.10/dist-packages (from huggingface-hub>=0.21.2->datasets) (4.11.0)\n",
            "Requirement already satisfied: charset-normalizer<4,>=2 in /usr/local/lib/python3.10/dist-packages (from requests>=2.19.0->datasets) (3.3.2)\n",
            "Requirement already satisfied: idna<4,>=2.5 in /usr/local/lib/python3.10/dist-packages (from requests>=2.19.0->datasets) (3.7)\n",
            "Requirement already satisfied: urllib3<3,>=1.21.1 in /usr/local/lib/python3.10/dist-packages (from requests>=2.19.0->datasets) (2.0.7)\n",
            "Requirement already satisfied: certifi>=2017.4.17 in /usr/local/lib/python3.10/dist-packages (from requests>=2.19.0->datasets) (2024.2.2)\n",
            "Requirement already satisfied: python-dateutil>=2.8.2 in /usr/local/lib/python3.10/dist-packages (from pandas->datasets) (2.8.2)\n",
            "Requirement already satisfied: pytz>=2020.1 in /usr/local/lib/python3.10/dist-packages (from pandas->datasets) (2023.4)\n",
            "Requirement already satisfied: tzdata>=2022.1 in /usr/local/lib/python3.10/dist-packages (from pandas->datasets) (2024.1)\n",
            "Requirement already satisfied: six>=1.5 in /usr/local/lib/python3.10/dist-packages (from python-dateutil>=2.8.2->pandas->datasets) (1.16.0)\n",
            "Installing collected packages: xxhash, dill, multiprocess, huggingface-hub, datasets\n",
            "  Attempting uninstall: huggingface-hub\n",
            "    Found existing installation: huggingface-hub 0.20.3\n",
            "    Uninstalling huggingface-hub-0.20.3:\n",
            "      Successfully uninstalled huggingface-hub-0.20.3\n",
            "Successfully installed datasets-2.19.1 dill-0.3.8 huggingface-hub-0.23.0 multiprocess-0.70.16 xxhash-3.4.1\n",
            "Requirement already satisfied: transformers[torch] in /usr/local/lib/python3.10/dist-packages (4.40.1)\n",
            "Requirement already satisfied: filelock in /usr/local/lib/python3.10/dist-packages (from transformers[torch]) (3.14.0)\n",
            "Requirement already satisfied: huggingface-hub<1.0,>=0.19.3 in /usr/local/lib/python3.10/dist-packages (from transformers[torch]) (0.23.0)\n",
            "Requirement already satisfied: numpy>=1.17 in /usr/local/lib/python3.10/dist-packages (from transformers[torch]) (1.25.2)\n",
            "Requirement already satisfied: packaging>=20.0 in /usr/local/lib/python3.10/dist-packages (from transformers[torch]) (24.0)\n",
            "Requirement already satisfied: pyyaml>=5.1 in /usr/local/lib/python3.10/dist-packages (from transformers[torch]) (6.0.1)\n",
            "Requirement already satisfied: regex!=2019.12.17 in /usr/local/lib/python3.10/dist-packages (from transformers[torch]) (2023.12.25)\n",
            "Requirement already satisfied: requests in /usr/local/lib/python3.10/dist-packages (from transformers[torch]) (2.31.0)\n",
            "Requirement already satisfied: tokenizers<0.20,>=0.19 in /usr/local/lib/python3.10/dist-packages (from transformers[torch]) (0.19.1)\n",
            "Requirement already satisfied: safetensors>=0.4.1 in /usr/local/lib/python3.10/dist-packages (from transformers[torch]) (0.4.3)\n",
            "Requirement already satisfied: tqdm>=4.27 in /usr/local/lib/python3.10/dist-packages (from transformers[torch]) (4.66.4)\n",
            "Requirement already satisfied: torch in /usr/local/lib/python3.10/dist-packages (from transformers[torch]) (2.2.1+cu121)\n",
            "Collecting accelerate>=0.21.0 (from transformers[torch])\n",
            "  Downloading accelerate-0.30.0-py3-none-any.whl (302 kB)\n",
            "     ━━━━━━━━━━━━━━━━━━━━━━━━━━━━━━━━━━━━━━━━ 302.4/302.4 kB 7.1 MB/s eta 0:00:00\n",
            "Requirement already satisfied: psutil in /usr/local/lib/python3.10/dist-packages (from accelerate>=0.21.0->transformers[torch]) (5.9.5)\n",
            "Requirement already satisfied: fsspec>=2023.5.0 in /usr/local/lib/python3.10/dist-packages (from huggingface-hub<1.0,>=0.19.3->transformers[torch]) (2023.6.0)\n",
            "Requirement already satisfied: typing-extensions>=3.7.4.3 in /usr/local/lib/python3.10/dist-packages (from huggingface-hub<1.0,>=0.19.3->transformers[torch]) (4.11.0)\n",
            "Requirement already satisfied: sympy in /usr/local/lib/python3.10/dist-packages (from torch->transformers[torch]) (1.12)\n",
            "Requirement already satisfied: networkx in /usr/local/lib/python3.10/dist-packages (from torch->transformers[torch]) (3.3)\n",
            "Requirement already satisfied: jinja2 in /usr/local/lib/python3.10/dist-packages (from torch->transformers[torch]) (3.1.3)\n",
            "Collecting nvidia-cuda-nvrtc-cu12==12.1.105 (from torch->transformers[torch])\n",
            "  Using cached nvidia_cuda_nvrtc_cu12-12.1.105-py3-none-manylinux1_x86_64.whl (23.7 MB)\n",
            "Collecting nvidia-cuda-runtime-cu12==12.1.105 (from torch->transformers[torch])\n",
            "  Using cached nvidia_cuda_runtime_cu12-12.1.105-py3-none-manylinux1_x86_64.whl (823 kB)\n",
            "Collecting nvidia-cuda-cupti-cu12==12.1.105 (from torch->transformers[torch])\n",
            "  Using cached nvidia_cuda_cupti_cu12-12.1.105-py3-none-manylinux1_x86_64.whl (14.1 MB)\n",
            "Collecting nvidia-cudnn-cu12==8.9.2.26 (from torch->transformers[torch])\n",
            "  Using cached nvidia_cudnn_cu12-8.9.2.26-py3-none-manylinux1_x86_64.whl (731.7 MB)\n",
            "Collecting nvidia-cublas-cu12==12.1.3.1 (from torch->transformers[torch])\n",
            "  Using cached nvidia_cublas_cu12-12.1.3.1-py3-none-manylinux1_x86_64.whl (410.6 MB)\n",
            "Collecting nvidia-cufft-cu12==11.0.2.54 (from torch->transformers[torch])\n",
            "  Using cached nvidia_cufft_cu12-11.0.2.54-py3-none-manylinux1_x86_64.whl (121.6 MB)\n",
            "Collecting nvidia-curand-cu12==10.3.2.106 (from torch->transformers[torch])\n",
            "  Using cached nvidia_curand_cu12-10.3.2.106-py3-none-manylinux1_x86_64.whl (56.5 MB)\n",
            "Collecting nvidia-cusolver-cu12==11.4.5.107 (from torch->transformers[torch])\n",
            "  Using cached nvidia_cusolver_cu12-11.4.5.107-py3-none-manylinux1_x86_64.whl (124.2 MB)\n",
            "Collecting nvidia-cusparse-cu12==12.1.0.106 (from torch->transformers[torch])\n",
            "  Using cached nvidia_cusparse_cu12-12.1.0.106-py3-none-manylinux1_x86_64.whl (196.0 MB)\n",
            "Collecting nvidia-nccl-cu12==2.19.3 (from torch->transformers[torch])\n",
            "  Using cached nvidia_nccl_cu12-2.19.3-py3-none-manylinux1_x86_64.whl (166.0 MB)\n",
            "Collecting nvidia-nvtx-cu12==12.1.105 (from torch->transformers[torch])\n",
            "  Using cached nvidia_nvtx_cu12-12.1.105-py3-none-manylinux1_x86_64.whl (99 kB)\n",
            "Requirement already satisfied: triton==2.2.0 in /usr/local/lib/python3.10/dist-packages (from torch->transformers[torch]) (2.2.0)\n",
            "Collecting nvidia-nvjitlink-cu12 (from nvidia-cusolver-cu12==11.4.5.107->torch->transformers[torch])\n",
            "  Using cached nvidia_nvjitlink_cu12-12.4.127-py3-none-manylinux2014_x86_64.whl (21.1 MB)\n",
            "Requirement already satisfied: charset-normalizer<4,>=2 in /usr/local/lib/python3.10/dist-packages (from requests->transformers[torch]) (3.3.2)\n",
            "Requirement already satisfied: idna<4,>=2.5 in /usr/local/lib/python3.10/dist-packages (from requests->transformers[torch]) (3.7)\n",
            "Requirement already satisfied: urllib3<3,>=1.21.1 in /usr/local/lib/python3.10/dist-packages (from requests->transformers[torch]) (2.0.7)\n",
            "Requirement already satisfied: certifi>=2017.4.17 in /usr/local/lib/python3.10/dist-packages (from requests->transformers[torch]) (2024.2.2)\n",
            "Requirement already satisfied: MarkupSafe>=2.0 in /usr/local/lib/python3.10/dist-packages (from jinja2->torch->transformers[torch]) (2.1.5)\n",
            "Requirement already satisfied: mpmath>=0.19 in /usr/local/lib/python3.10/dist-packages (from sympy->torch->transformers[torch]) (1.3.0)\n",
            "Installing collected packages: nvidia-nvtx-cu12, nvidia-nvjitlink-cu12, nvidia-nccl-cu12, nvidia-curand-cu12, nvidia-cufft-cu12, nvidia-cuda-runtime-cu12, nvidia-cuda-nvrtc-cu12, nvidia-cuda-cupti-cu12, nvidia-cublas-cu12, nvidia-cusparse-cu12, nvidia-cudnn-cu12, nvidia-cusolver-cu12, accelerate\n",
            "Successfully installed accelerate-0.30.0 nvidia-cublas-cu12-12.1.3.1 nvidia-cuda-cupti-cu12-12.1.105 nvidia-cuda-nvrtc-cu12-12.1.105 nvidia-cuda-runtime-cu12-12.1.105 nvidia-cudnn-cu12-8.9.2.26 nvidia-cufft-cu12-11.0.2.54 nvidia-curand-cu12-10.3.2.106 nvidia-cusolver-cu12-11.4.5.107 nvidia-cusparse-cu12-12.1.0.106 nvidia-nccl-cu12-2.19.3 nvidia-nvjitlink-cu12-12.4.127 nvidia-nvtx-cu12-12.1.105\n",
            "Requirement already satisfied: tokenizers in /usr/local/lib/python3.10/dist-packages (0.19.1)\n",
            "Requirement already satisfied: huggingface-hub<1.0,>=0.16.4 in /usr/local/lib/python3.10/dist-packages (from tokenizers) (0.23.0)\n",
            "Requirement already satisfied: filelock in /usr/local/lib/python3.10/dist-packages (from huggingface-hub<1.0,>=0.16.4->tokenizers) (3.14.0)\n",
            "Requirement already satisfied: fsspec>=2023.5.0 in /usr/local/lib/python3.10/dist-packages (from huggingface-hub<1.0,>=0.16.4->tokenizers) (2023.6.0)\n",
            "Requirement already satisfied: packaging>=20.9 in /usr/local/lib/python3.10/dist-packages (from huggingface-hub<1.0,>=0.16.4->tokenizers) (24.0)\n",
            "Requirement already satisfied: pyyaml>=5.1 in /usr/local/lib/python3.10/dist-packages (from huggingface-hub<1.0,>=0.16.4->tokenizers) (6.0.1)\n",
            "Requirement already satisfied: requests in /usr/local/lib/python3.10/dist-packages (from huggingface-hub<1.0,>=0.16.4->tokenizers) (2.31.0)\n",
            "Requirement already satisfied: tqdm>=4.42.1 in /usr/local/lib/python3.10/dist-packages (from huggingface-hub<1.0,>=0.16.4->tokenizers) (4.66.4)\n",
            "Requirement already satisfied: typing-extensions>=3.7.4.3 in /usr/local/lib/python3.10/dist-packages (from huggingface-hub<1.0,>=0.16.4->tokenizers) (4.11.0)\n",
            "Requirement already satisfied: charset-normalizer<4,>=2 in /usr/local/lib/python3.10/dist-packages (from requests->huggingface-hub<1.0,>=0.16.4->tokenizers) (3.3.2)\n",
            "Requirement already satisfied: idna<4,>=2.5 in /usr/local/lib/python3.10/dist-packages (from requests->huggingface-hub<1.0,>=0.16.4->tokenizers) (3.7)\n",
            "Requirement already satisfied: urllib3<3,>=1.21.1 in /usr/local/lib/python3.10/dist-packages (from requests->huggingface-hub<1.0,>=0.16.4->tokenizers) (2.0.7)\n",
            "Requirement already satisfied: certifi>=2017.4.17 in /usr/local/lib/python3.10/dist-packages (from requests->huggingface-hub<1.0,>=0.16.4->tokenizers) (2024.2.2)\n",
            "Collecting evaluate\n",
            "  Downloading evaluate-0.4.2-py3-none-any.whl (84 kB)\n",
            "     ━━━━━━━━━━━━━━━━━━━━━━━━━━━━━━━━━━━━━━━━ 84.1/84.1 kB 3.2 MB/s eta 0:00:00\n",
            "Requirement already satisfied: datasets>=2.0.0 in /usr/local/lib/python3.10/dist-packages (from evaluate) (2.19.1)\n",
            "Requirement already satisfied: numpy>=1.17 in /usr/local/lib/python3.10/dist-packages (from evaluate) (1.25.2)\n",
            "Requirement already satisfied: dill in /usr/local/lib/python3.10/dist-packages (from evaluate) (0.3.8)\n",
            "Requirement already satisfied: pandas in /usr/local/lib/python3.10/dist-packages (from evaluate) (2.0.3)\n",
            "Requirement already satisfied: requests>=2.19.0 in /usr/local/lib/python3.10/dist-packages (from evaluate) (2.31.0)\n",
            "Requirement already satisfied: tqdm>=4.62.1 in /usr/local/lib/python3.10/dist-packages (from evaluate) (4.66.4)\n",
            "Requirement already satisfied: xxhash in /usr/local/lib/python3.10/dist-packages (from evaluate) (3.4.1)\n",
            "Requirement already satisfied: multiprocess in /usr/local/lib/python3.10/dist-packages (from evaluate) (0.70.16)\n",
            "Requirement already satisfied: fsspec[http]>=2021.05.0 in /usr/local/lib/python3.10/dist-packages (from evaluate) (2023.6.0)\n",
            "Requirement already satisfied: huggingface-hub>=0.7.0 in /usr/local/lib/python3.10/dist-packages (from evaluate) (0.23.0)\n",
            "Requirement already satisfied: packaging in /usr/local/lib/python3.10/dist-packages (from evaluate) (24.0)\n",
            "Requirement already satisfied: filelock in /usr/local/lib/python3.10/dist-packages (from datasets>=2.0.0->evaluate) (3.14.0)\n",
            "Requirement already satisfied: pyarrow>=12.0.0 in /usr/local/lib/python3.10/dist-packages (from datasets>=2.0.0->evaluate) (14.0.2)\n",
            "Requirement already satisfied: pyarrow-hotfix in /usr/local/lib/python3.10/dist-packages (from datasets>=2.0.0->evaluate) (0.6)\n",
            "Requirement already satisfied: aiohttp in /usr/local/lib/python3.10/dist-packages (from datasets>=2.0.0->evaluate) (3.9.5)\n",
            "Requirement already satisfied: pyyaml>=5.1 in /usr/local/lib/python3.10/dist-packages (from datasets>=2.0.0->evaluate) (6.0.1)\n",
            "Requirement already satisfied: typing-extensions>=3.7.4.3 in /usr/local/lib/python3.10/dist-packages (from huggingface-hub>=0.7.0->evaluate) (4.11.0)\n",
            "Requirement already satisfied: charset-normalizer<4,>=2 in /usr/local/lib/python3.10/dist-packages (from requests>=2.19.0->evaluate) (3.3.2)\n",
            "Requirement already satisfied: idna<4,>=2.5 in /usr/local/lib/python3.10/dist-packages (from requests>=2.19.0->evaluate) (3.7)\n",
            "Requirement already satisfied: urllib3<3,>=1.21.1 in /usr/local/lib/python3.10/dist-packages (from requests>=2.19.0->evaluate) (2.0.7)\n",
            "Requirement already satisfied: certifi>=2017.4.17 in /usr/local/lib/python3.10/dist-packages (from requests>=2.19.0->evaluate) (2024.2.2)\n",
            "Requirement already satisfied: python-dateutil>=2.8.2 in /usr/local/lib/python3.10/dist-packages (from pandas->evaluate) (2.8.2)\n",
            "Requirement already satisfied: pytz>=2020.1 in /usr/local/lib/python3.10/dist-packages (from pandas->evaluate) (2023.4)\n",
            "Requirement already satisfied: tzdata>=2022.1 in /usr/local/lib/python3.10/dist-packages (from pandas->evaluate) (2024.1)\n",
            "Requirement already satisfied: aiosignal>=1.1.2 in /usr/local/lib/python3.10/dist-packages (from aiohttp->datasets>=2.0.0->evaluate) (1.3.1)\n",
            "Requirement already satisfied: attrs>=17.3.0 in /usr/local/lib/python3.10/dist-packages (from aiohttp->datasets>=2.0.0->evaluate) (23.2.0)\n",
            "Requirement already satisfied: frozenlist>=1.1.1 in /usr/local/lib/python3.10/dist-packages (from aiohttp->datasets>=2.0.0->evaluate) (1.4.1)\n",
            "Requirement already satisfied: multidict<7.0,>=4.5 in /usr/local/lib/python3.10/dist-packages (from aiohttp->datasets>=2.0.0->evaluate) (6.0.5)\n",
            "Requirement already satisfied: yarl<2.0,>=1.0 in /usr/local/lib/python3.10/dist-packages (from aiohttp->datasets>=2.0.0->evaluate) (1.9.4)\n",
            "Requirement already satisfied: async-timeout<5.0,>=4.0 in /usr/local/lib/python3.10/dist-packages (from aiohttp->datasets>=2.0.0->evaluate) (4.0.3)\n",
            "Requirement already satisfied: six>=1.5 in /usr/local/lib/python3.10/dist-packages (from python-dateutil>=2.8.2->pandas->evaluate) (1.16.0)\n",
            "Installing collected packages: evaluate\n",
            "Successfully installed evaluate-0.4.2\n",
            "Collecting rouge_score\n",
            "  Downloading rouge_score-0.1.2.tar.gz (17 kB)\n",
            "  Preparing metadata (setup.py): started\n",
            "  Preparing metadata (setup.py): finished with status 'done'\n",
            "Requirement already satisfied: absl-py in /usr/local/lib/python3.10/dist-packages (from rouge_score) (1.4.0)\n",
            "Requirement already satisfied: nltk in /usr/local/lib/python3.10/dist-packages (from rouge_score) (3.8.1)\n",
            "Requirement already satisfied: numpy in /usr/local/lib/python3.10/dist-packages (from rouge_score) (1.25.2)\n",
            "Requirement already satisfied: six>=1.14.0 in /usr/local/lib/python3.10/dist-packages (from rouge_score) (1.16.0)\n",
            "Requirement already satisfied: click in /usr/local/lib/python3.10/dist-packages (from nltk->rouge_score) (8.1.7)\n",
            "Requirement already satisfied: joblib in /usr/local/lib/python3.10/dist-packages (from nltk->rouge_score) (1.4.2)\n",
            "Requirement already satisfied: regex>=2021.8.3 in /usr/local/lib/python3.10/dist-packages (from nltk->rouge_score) (2023.12.25)\n",
            "Requirement already satisfied: tqdm in /usr/local/lib/python3.10/dist-packages (from nltk->rouge_score) (4.66.4)\n",
            "Building wheels for collected packages: rouge_score\n",
            "  Building wheel for rouge_score (setup.py): started\n",
            "  Building wheel for rouge_score (setup.py): finished with status 'done'\n",
            "  Created wheel for rouge_score: filename=rouge_score-0.1.2-py3-none-any.whl size=24933 sha256=5a1d1897f191a732658037c741b39c9c87cc8d26e865a84e8ab228c56fd11454\n",
            "  Stored in directory: /root/.cache/pip/wheels/5f/dd/89/461065a73be61a532ff8599a28e9beef17985c9e9c31e541b4\n",
            "Successfully built rouge_score\n",
            "Installing collected packages: rouge_score\n",
            "Successfully installed rouge_score-0.1.2\n",
            "Requirement already satisfied: sentencepiece in /usr/local/lib/python3.10/dist-packages (0.1.99)\n",
            "Requirement already satisfied: huggingface_hub in /usr/local/lib/python3.10/dist-packages (0.23.0)\n",
            "Requirement already satisfied: filelock in /usr/local/lib/python3.10/dist-packages (from huggingface_hub) (3.14.0)\n",
            "Requirement already satisfied: fsspec>=2023.5.0 in /usr/local/lib/python3.10/dist-packages (from huggingface_hub) (2023.6.0)\n",
            "Requirement already satisfied: packaging>=20.9 in /usr/local/lib/python3.10/dist-packages (from huggingface_hub) (24.0)\n",
            "Requirement already satisfied: pyyaml>=5.1 in /usr/local/lib/python3.10/dist-packages (from huggingface_hub) (6.0.1)\n",
            "Requirement already satisfied: requests in /usr/local/lib/python3.10/dist-packages (from huggingface_hub) (2.31.0)\n",
            "Requirement already satisfied: tqdm>=4.42.1 in /usr/local/lib/python3.10/dist-packages (from huggingface_hub) (4.66.4)\n",
            "Requirement already satisfied: typing-extensions>=3.7.4.3 in /usr/local/lib/python3.10/dist-packages (from huggingface_hub) (4.11.0)\n",
            "Requirement already satisfied: charset-normalizer<4,>=2 in /usr/local/lib/python3.10/dist-packages (from requests->huggingface_hub) (3.3.2)\n",
            "Requirement already satisfied: idna<4,>=2.5 in /usr/local/lib/python3.10/dist-packages (from requests->huggingface_hub) (3.7)\n",
            "Requirement already satisfied: urllib3<3,>=1.21.1 in /usr/local/lib/python3.10/dist-packages (from requests->huggingface_hub) (2.0.7)\n",
            "Requirement already satisfied: certifi>=2017.4.17 in /usr/local/lib/python3.10/dist-packages (from requests->huggingface_hub) (2024.2.2)\n"
          ]
        }
      ]
    },
    {
      "cell_type": "code",
      "source": [
        "# !pip install langdetect\n",
        "import pandas as pd\n",
        "from google.colab import drive\n",
        "from bs4 import BeautifulSoup\n",
        "\n",
        "import nltk\n",
        "nltk.download(\"punkt\", quiet=True)\n",
        "\n",
        "import evaluate\n",
        "import numpy as np\n",
        "from datasets import load_dataset\n",
        "from transformers import T5Tokenizer, DataCollatorForSeq2Seq\n",
        "from transformers import T5ForConditionalGeneration, Seq2SeqTrainingArguments, Seq2SeqTrainer\n",
        "\n",
        "import datasets\n",
        "import pandas as pd\n",
        "from sklearn.model_selection import train_test_split\n",
        "\n",
        "from textwrap import fill\n",
        "import torch"
      ],
      "metadata": {
        "id": "hahCEKfYlwiS"
      },
      "execution_count": null,
      "outputs": []
    },
    {
      "cell_type": "code",
      "execution_count": null,
      "metadata": {
        "id": "6b9wR0V9cVRF",
        "colab": {
          "base_uri": "https://localhost:8080/"
        },
        "outputId": "8e7cf759-934e-4d81-f986-514ac78e37ce"
      },
      "outputs": [
        {
          "output_type": "stream",
          "name": "stdout",
          "text": [
            "Mounted at /drive/\n"
          ]
        }
      ],
      "source": [
        "#@title Mount the Google drive.\n",
        "google_drive = \"/drive/\" #@param {type:\"string\"}\n",
        "drive.mount(google_drive, force_remount=True)"
      ]
    },
    {
      "cell_type": "markdown",
      "source": [
        "#Data Processing"
      ],
      "metadata": {
        "id": "bjqJqYfAgP6C"
      }
    },
    {
      "cell_type": "code",
      "source": [
        "#@title Initialize paths and common variables\n",
        "first_time = False #@param {type: \"boolean\"}\n",
        "already_have_preprocessed = True #@param {type:\"boolean\"}\n",
        "path = '/drive/MyDrive/NLU Final Project/'\n",
        "answer_path = path + 'Stackoverflow_python/Answers.csv'\n",
        "question_path = path + 'Stackoverflow_python/Questions.csv'\n",
        "tag_path = path + 'Stackoverflow_python/Tags.csv'\n",
        "filtered_file_path = path + 'Stackoverflow_python/filtered_df.csv'"
      ],
      "metadata": {
        "id": "yHhyzcOsfmOv"
      },
      "execution_count": null,
      "outputs": []
    },
    {
      "cell_type": "code",
      "source": [
        "#@title Read from CSV\n",
        "if not already_have_preprocessed:\n",
        "  f = open(question_path,encoding=\"utf-8\", errors='ignore')\n",
        "  df_questions = pd.read_csv(f)\n",
        "  f.close()\n",
        "  len(df_questions)\n",
        "\n",
        "  f = open(answer_path,encoding=\"utf-8\", errors='ignore')\n",
        "  df_answers = pd.read_csv(f)\n",
        "  f.close()\n",
        "  len(df_answers)\n",
        "\n",
        "  df_tags = pd.read_csv(tag_path)\n",
        "  len(df_tags)"
      ],
      "metadata": {
        "id": "nlgUCRj-emOy"
      },
      "execution_count": null,
      "outputs": []
    },
    {
      "cell_type": "code",
      "source": [
        "#@title Preprocessing train and test df\n",
        "if first_time:\n",
        "  def remove_html_tags(text):\n",
        "      soup = BeautifulSoup(text, \"html.parser\")\n",
        "      cleaned_text = soup.get_text(separator=\" \")\n",
        "      cleaned_text = cleaned_text.replace(\"\\n\", \" \")\n",
        "      return cleaned_text.strip()\n",
        "\n",
        "  def preprocess(title, body):\n",
        "      # Remove HTML tags\n",
        "      result = \"Title: \" + remove_html_tags(title) + \"Body: \" + remove_html_tags(body)\n",
        "      return result\n",
        "\n",
        "  def has_non_utf(text):\n",
        "    if any(ord(char) >= 128 for char in text):\n",
        "      return None\n",
        "    return text\n",
        "\n",
        "  if not already_have_preprocessed:\n",
        "    #Processing the questions\n",
        "    df_questions['Title_Question'] = df_questions.apply(lambda x: preprocess(x['Title'], x['Body']), axis=1)\n",
        "    #Processing the answers\n",
        "    df_answers['Cleaned_Answer'] = df_answers['Body'].apply(remove_html_tags)\n",
        "    merged_df = pd.merge(df_answers, df_questions[['Id', 'Title_Question']], left_on='ParentId', right_on='Id', how='left')\n",
        "\n",
        "    df = merged_df[['ParentId','Title_Question', 'Cleaned_Answer','Score']]\n",
        "    df.columns = ['Id','Input','Label','Score']\n",
        "    df = df[df['Score'] >= 2]\n",
        "    tempdf = df.groupby('Id', group_keys=False).apply(lambda x: x.nlargest(2, 'Score')).reset_index(drop=True)\n",
        "    df = tempdf.sample(frac=1.0, random_state=42).reset_index(drop=True)\n",
        "    df = df[['Input', 'Label']]\n",
        "\n",
        "    df['Filtered Input'] = df['Input'].apply(lambda x: has_non_utf(x))\n",
        "    df['Filtered Label'] = df['Label'].apply(lambda x: has_non_utf(x))\n",
        "\n",
        "    #Creating a filtered_df with just UTF-8 characters\n",
        "    filtered_df = df[df['Filtered Input'].notnull()]\n",
        "    filtered_df = filtered_df[filtered_df['Filtered Label'].notnull()]\n",
        "    filtered_df = filtered_df.drop(['Filtered Input', 'Filtered Label'], axis=1)\n",
        "\n",
        "    filtered_df.to_csv(filtered_file_path, index=False, escapechar='\\\\')\n",
        "  else:\n",
        "    filtered_df = pd.read_csv(filtered_file_path)\n",
        "\n",
        "  train_df, test_df = train_test_split(filtered_df, test_size=0.2)\n",
        "  train_df.to_csv(path + 'Stackoverflow_python/train_df.csv', index=False)\n",
        "  test_df.to_csv(path + 'Stackoverflow_python/test_df.csv', index=False)\n",
        "\n",
        "else:\n",
        "  train_df = pd.read_csv(path + 'Stackoverflow_python/train_df.csv')\n",
        "  test_df = pd.read_csv(path + 'Stackoverflow_python/test_df.csv')"
      ],
      "metadata": {
        "id": "NBPKYzcmUtC2"
      },
      "execution_count": null,
      "outputs": []
    },
    {
      "cell_type": "code",
      "source": [
        "counter_file_path = path + 'Stackoverflow_python/training_counter.txt'\n",
        "def read_counter():\n",
        "    try:\n",
        "        with open(counter_file_path, 'r') as file:\n",
        "            count = int(file.read().strip())\n",
        "    except FileNotFoundError:\n",
        "        # Initialize counter if the file doesn't exist\n",
        "        count = 0\n",
        "        write_counter(count)\n",
        "    return count\n",
        "\n",
        "def write_counter(count):\n",
        "    with open(counter_file_path, 'w') as file:\n",
        "        file.write(str(count))\n",
        "\n",
        "current_count = read_counter()\n",
        "\n",
        "print(f\"Current count: {current_count}\")"
      ],
      "metadata": {
        "colab": {
          "base_uri": "https://localhost:8080/"
        },
        "id": "q5j40-OYalYH",
        "outputId": "f5c3892d-fcc7-484c-9778-0d64ca2ffc15"
      },
      "execution_count": null,
      "outputs": [
        {
          "output_type": "stream",
          "name": "stdout",
          "text": [
            "Current count: 2\n"
          ]
        }
      ]
    },
    {
      "cell_type": "markdown",
      "source": [
        "###Creating train and test set"
      ],
      "metadata": {
        "id": "F2Qgfi00MRDP"
      }
    },
    {
      "cell_type": "code",
      "source": [
        "#@title Convert to dataset object\n",
        "# dataset = datasets.Dataset.from_pandas(filtered_df)\n",
        "train_size = 20000 #@param {type: \"integer\"}\n",
        "test_size = 2000 #@param {type: \"integer\"}\n",
        "\n",
        "train_dataset = datasets.Dataset.from_pandas(train_df[current_count * train_size: min(current_count *train_size + train_size, len(train_df))])\n",
        "test_dataset = datasets.Dataset.from_pandas(test_df[current_count * test_size: min(current_count * test_size + test_size, len(test_df))])"
      ],
      "metadata": {
        "id": "f41XyenJMGM4"
      },
      "execution_count": null,
      "outputs": []
    },
    {
      "cell_type": "code",
      "source": [
        "train_dataset_dict = train_dataset.train_test_split(test_size=0.05)"
      ],
      "metadata": {
        "id": "6irORWOS7JwY"
      },
      "execution_count": null,
      "outputs": []
    },
    {
      "cell_type": "markdown",
      "source": [
        "#Initialize model"
      ],
      "metadata": {
        "id": "ShRdRsLagYxH"
      }
    },
    {
      "cell_type": "code",
      "source": [
        "not_finetuned = False #@param {type: \"boolean\"}\n",
        "if not_finetuned:\n",
        "  # Load the tokenizer, model, and data collator\n",
        "  MODEL_NAME = \"google/flan-t5-base\"\n",
        "\n",
        "  tokenizer = T5Tokenizer.from_pretrained(MODEL_NAME)\n",
        "  model = T5ForConditionalGeneration.from_pretrained(MODEL_NAME)\n",
        "  data_collator = DataCollatorForSeq2Seq(tokenizer=tokenizer, model=model)\n",
        "else:\n",
        "  checkpoint = \"checkpoint-14000\" #@param {type: \"string\"}\n",
        "  checkpoint_path = path + 'Save Results/' + checkpoint\n",
        "\n",
        "  finetuned_model = T5ForConditionalGeneration.from_pretrained(checkpoint_path)\n",
        "  tokenizer = T5Tokenizer.from_pretrained(checkpoint_path)\n",
        "  data_collator = DataCollatorForSeq2Seq(tokenizer=tokenizer, model=finetuned_model)"
      ],
      "metadata": {
        "id": "9Wrmcea9gbSh",
        "colab": {
          "base_uri": "https://localhost:8080/"
        },
        "outputId": "0fa53094-f28c-46f0-9283-724ade140643"
      },
      "execution_count": null,
      "outputs": [
        {
          "output_type": "stream",
          "name": "stderr",
          "text": [
            "Special tokens have been added in the vocabulary, make sure the associated word embeddings are fine-tuned or trained.\n"
          ]
        }
      ]
    },
    {
      "cell_type": "code",
      "source": [
        "# We prefix our tasks with \"answer the question\"\n",
        "prefix = \"Please answer this question: \"\n",
        "\n",
        "# Define the preprocessing function\n",
        "def preprocess_function(examples):\n",
        "   \"\"\"Add prefix to the sentences, tokenize the text, and set the labels\"\"\"\n",
        "   # The \"inputs\" are the tokenized answer:\n",
        "   inputs = [prefix + doc for doc in examples[\"Input\"]]\n",
        "   model_inputs = tokenizer(inputs, max_length=300, truncation=True, padding='max_length')\n",
        "\n",
        "   # The \"labels\" are the tokenized outputs:\n",
        "   labels = tokenizer(text_target=examples[\"Label\"],\n",
        "                      max_length=300,\n",
        "                      truncation=True, padding='max_length')\n",
        "\n",
        "   model_inputs[\"labels\"] = labels[\"input_ids\"]\n",
        "   return model_inputs"
      ],
      "metadata": {
        "id": "8ra8bnITDhup"
      },
      "execution_count": null,
      "outputs": []
    },
    {
      "cell_type": "code",
      "source": [
        "tokenized_train = train_dataset_dict.map(preprocess_function, batched=True, batch_size=32)\n",
        "tokenized_test = test_dataset.map(preprocess_function, batched=True, batch_size=32)"
      ],
      "metadata": {
        "colab": {
          "base_uri": "https://localhost:8080/",
          "height": 113,
          "referenced_widgets": [
            "d397b8b37a904647b4df6d5d4a2fd96e",
            "77a2c9cdfd70413383ca134217bae874",
            "1521da853140460f80498fd2eaea9cf6",
            "f53ec1c44ba248839d7478804f222ec0",
            "b4e2369be6cf467d8c88e83e6849550c",
            "43f9df86989640f1a887bec7d190d9a3",
            "e1c1267622a74a769aeffc85a39a6ebb",
            "8e37d2831181424e8f2ca33e75b9fd48",
            "c1335e206000491ba654be4c21705edc",
            "00b6c6f755cd4725a021577a56ed3034",
            "034f6aae80174e989715067250f7eefe",
            "e1b7cc6336aa4849bb8485ef309b286e",
            "d42f0a6007f9469aa390305ed2949b10",
            "69b9c89aeb334fbe9d1c24a0366593fb",
            "c72f7cf7953e482b9d2f628a22cf548b",
            "7eb936b09a83443989bcbc5d9b9f748f",
            "c346651f927947cabbc9b0db0d19b624",
            "3c2a8e181ef84f29a608567ccc65dcbc",
            "fb5faedc8ce94544b2bc79758ce111b6",
            "0b021130252b41f19689d2f8d4a6ade9",
            "06ccb76ff90d417a8698096bcfde3b0a",
            "99203907512c4be6aa773409a9e2beea",
            "87a4b38aefc44d62ace0bcdae345bda9",
            "59b91b47a07a4aeba88417a4d73c035b",
            "48b19e106bce40e386bbc550d1cde4c0",
            "e0388415a585440eaed2a5d02cc7df50",
            "a6dc86d1120d415cb656e93db195cbce",
            "8a631d10f50f4613a07cbba8d19fe57d",
            "f7200dec67294709b0f2d6465e4b9858",
            "23540f9a6f0a4f7a83b5454754e2c8d9",
            "cfec927d26ab4febbc3b769d20cf2e5c",
            "3180a82a8f2a4e18a5bc1e94a8fe2d6e",
            "1a058b379703445b96550b7bde18fdc0"
          ]
        },
        "id": "zArYYiu4NzDF",
        "outputId": "614ea2a4-ef0b-4037-c450-a3b0002ac290"
      },
      "execution_count": null,
      "outputs": [
        {
          "output_type": "display_data",
          "data": {
            "text/plain": [
              "Map:   0%|          | 0/19000 [00:00<?, ? examples/s]"
            ],
            "application/vnd.jupyter.widget-view+json": {
              "version_major": 2,
              "version_minor": 0,
              "model_id": "d397b8b37a904647b4df6d5d4a2fd96e"
            }
          },
          "metadata": {}
        },
        {
          "output_type": "display_data",
          "data": {
            "text/plain": [
              "Map:   0%|          | 0/1000 [00:00<?, ? examples/s]"
            ],
            "application/vnd.jupyter.widget-view+json": {
              "version_major": 2,
              "version_minor": 0,
              "model_id": "e1b7cc6336aa4849bb8485ef309b286e"
            }
          },
          "metadata": {}
        },
        {
          "output_type": "display_data",
          "data": {
            "text/plain": [
              "Map:   0%|          | 0/2000 [00:00<?, ? examples/s]"
            ],
            "application/vnd.jupyter.widget-view+json": {
              "version_major": 2,
              "version_minor": 0,
              "model_id": "87a4b38aefc44d62ace0bcdae345bda9"
            }
          },
          "metadata": {}
        }
      ]
    },
    {
      "cell_type": "markdown",
      "source": [
        "##Evaluation metrics"
      ],
      "metadata": {
        "id": "q3yd7XxpyV1W"
      }
    },
    {
      "cell_type": "code",
      "source": [
        "#@title Rouge evaluation\n",
        "metric = evaluate.load(\"rouge\")\n",
        "def compute_metrics(eval_preds):\n",
        "    preds, labels = eval_preds\n",
        "\n",
        "    # print(preds)\n",
        "    # decode preds and labels\n",
        "    labels = np.where(labels != -100, labels, tokenizer.pad_token_id)\n",
        "    preds = np.where(preds != -100, preds, tokenizer.pad_token_id)\n",
        "    decoded_preds = tokenizer.batch_decode(preds, skip_special_tokens=True)\n",
        "    decoded_labels = tokenizer.batch_decode(labels, skip_special_tokens=True)\n",
        "    # decoded_preds = tokenizer.decode(preds)\n",
        "    # decoded_labels = tokenizer.decode(labels)\n",
        "\n",
        "    # rougeLSum expects newline after each sentence\n",
        "    decoded_preds = [\"\\n\".join(nltk.sent_tokenize(pred.strip())) for pred in decoded_preds]\n",
        "    decoded_labels = [\"\\n\".join(nltk.sent_tokenize(label.strip())) for label in decoded_labels]\n",
        "\n",
        "    result = metric.compute(predictions=decoded_preds, references=decoded_labels, use_stemmer=True)\n",
        "\n",
        "    return result"
      ],
      "metadata": {
        "id": "yzstCBDv3fiq",
        "colab": {
          "base_uri": "https://localhost:8080/",
          "height": 49,
          "referenced_widgets": [
            "20e59a8342604fb68d7407aacf7ae213",
            "bb51f5b24bfa46e1abf00e1f2916fb6b",
            "783764fc21f3420e99e893ad0a02c47f",
            "a94dfcab38734ea4a34b31239539666a",
            "14bb2193b8b8405a8f73fc9fbc898255",
            "1bc1ac2eadbc4fa8848d6fc8766ef1bf",
            "2c9b37b41a5e4c39aa975c96e4c0b4ef",
            "060a2d7be48b4dfdb1809e5d392b653e",
            "724292ed404647829ef24f52931644ef",
            "31df022db47e4c989f04adf5c8662f0f",
            "fbf5825574e14c639136511c5ac9a83e"
          ]
        },
        "outputId": "98c67ccf-cbe1-4ea3-9b79-add2c6700ce1"
      },
      "execution_count": null,
      "outputs": [
        {
          "output_type": "display_data",
          "data": {
            "text/plain": [
              "Downloading builder script:   0%|          | 0.00/6.27k [00:00<?, ?B/s]"
            ],
            "application/vnd.jupyter.widget-view+json": {
              "version_major": 2,
              "version_minor": 0,
              "model_id": "20e59a8342604fb68d7407aacf7ae213"
            }
          },
          "metadata": {}
        }
      ]
    },
    {
      "cell_type": "code",
      "source": [
        "#@title Human evaluation\n",
        "questions = [\n",
        "    \"What is the difference between list and tuple?\",\n",
        "    \"How to create a new text file in Python?\",\n",
        "    \"How to install Numpy?\",\n",
        "    \"How to add 2 lists together?\",\n",
        "    \"How to remove a specific element from a list in Python?\",\n",
        "    \"How to find the index of an element in a list in Python?\",\n",
        "]\n",
        "\n",
        "def human_eval(questions, model, tokenizer):\n",
        "  device = \"cuda\" if torch.cuda.is_available() else \"cpu\"\n",
        "  model.to(device)\n",
        "\n",
        "  for question in questions:\n",
        "      inputs = \"Please answer this question: \" + question\n",
        "\n",
        "      inputs = tokenizer(inputs, return_tensors=\"pt\")\n",
        "      inputs = {k: v.to(device) for k, v in inputs.items()}\n",
        "\n",
        "      outputs = model.generate(**inputs, max_new_tokens=300)\n",
        "      answer = tokenizer.decode(outputs[0])\n",
        "\n",
        "      print(\"\\nQuestion:\", question)\n",
        "      print(fill(answer, width=150))"
      ],
      "metadata": {
        "id": "bIAItNo7I7Oh"
      },
      "execution_count": null,
      "outputs": []
    },
    {
      "cell_type": "markdown",
      "source": [
        "##Trainer"
      ],
      "metadata": {
        "id": "7qIQkILzyYNw"
      }
    },
    {
      "cell_type": "code",
      "source": [
        "#@title Training arguments\n",
        "# Global Parameters\n",
        "L_RATE = 3e-4\n",
        "BATCH_SIZE = 4\n",
        "PER_DEVICE_EVAL_BATCH = 1\n",
        "WEIGHT_DECAY = 0.01\n",
        "SAVE_TOTAL_LIM = 1\n",
        "NUM_EPOCHS = 3\n",
        "\n",
        "# Set up training arguments\n",
        "training_args = Seq2SeqTrainingArguments(\n",
        "   output_dir=path + \"/Save Results\",\n",
        "   evaluation_strategy=\"epoch\",\n",
        "   learning_rate=L_RATE,\n",
        "   per_device_train_batch_size=BATCH_SIZE,\n",
        "   per_device_eval_batch_size=PER_DEVICE_EVAL_BATCH,\n",
        "   weight_decay=WEIGHT_DECAY,\n",
        "   save_total_limit=SAVE_TOTAL_LIM,\n",
        "   num_train_epochs=NUM_EPOCHS,\n",
        "   predict_with_generate=True,\n",
        "   push_to_hub=False,\n",
        "   generation_max_length=256,\n",
        "  #  load_best_model_at_end=True,\n",
        ")"
      ],
      "metadata": {
        "id": "zEuBxZK12AWz"
      },
      "execution_count": null,
      "outputs": []
    },
    {
      "cell_type": "code",
      "source": [
        "#@title Initialize trainer\n",
        "if not_finetuned:\n",
        "  trainer = Seq2SeqTrainer(\n",
        "    model=model,\n",
        "    args=training_args,\n",
        "    train_dataset=tokenized_train[\"train\"],\n",
        "    eval_dataset=tokenized_train[\"test\"],\n",
        "    tokenizer=tokenizer,\n",
        "    data_collator=data_collator,\n",
        "    compute_metrics=compute_metrics,\n",
        "  )\n",
        "else:\n",
        "  trainer = Seq2SeqTrainer(\n",
        "    model=finetuned_model,\n",
        "    args=training_args,\n",
        "    train_dataset=tokenized_train[\"train\"],\n",
        "    eval_dataset=tokenized_train[\"test\"],\n",
        "    tokenizer=tokenizer,\n",
        "    data_collator=data_collator,\n",
        "    compute_metrics=compute_metrics,\n",
        "  )"
      ],
      "metadata": {
        "id": "rNC-JM8s3aVN"
      },
      "execution_count": null,
      "outputs": []
    },
    {
      "cell_type": "markdown",
      "source": [
        "#First 20000 samples"
      ],
      "metadata": {
        "id": "aaEZc7wdKC-O"
      }
    },
    {
      "cell_type": "markdown",
      "source": [
        "###Test model before training"
      ],
      "metadata": {
        "id": "3nHSIjZTItH8"
      }
    },
    {
      "cell_type": "code",
      "source": [
        "trainer.predict(tokenized_test)"
      ],
      "metadata": {
        "colab": {
          "base_uri": "https://localhost:8080/",
          "height": 315
        },
        "id": "7k2hXNHxG16N",
        "outputId": "c3cb50b6-a149-4505-81a0-10410dc840f4"
      },
      "execution_count": null,
      "outputs": [
        {
          "output_type": "stream",
          "name": "stderr",
          "text": [
            "/usr/local/lib/python3.10/dist-packages/transformers/generation/utils.py:1141: UserWarning: Using the model-agnostic default `max_length` (=20) to control the generation length. We recommend setting `max_new_tokens` to control the maximum length of the generation.\n",
            "  warnings.warn(\n"
          ]
        },
        {
          "output_type": "display_data",
          "data": {
            "text/plain": [
              "<IPython.core.display.HTML object>"
            ],
            "text/html": []
          },
          "metadata": {}
        },
        {
          "output_type": "execute_result",
          "data": {
            "text/plain": [
              "PredictionOutput(predictions=array([[    0,     3,    75, ...,     0,     0,     0],\n",
              "       [    0,  1044,     5, ..., 11116,  1640,    61],\n",
              "       [    0,     3,    99, ...,    99,     3,    31],\n",
              "       ...,\n",
              "       [    0, 20737,     1, ...,     0,     0,     0],\n",
              "       [    0,     3,     9, ...,    31,   210,   210],\n",
              "       [    0,     3,  6667, ...,     1,     0,     0]]), label_ids=array([[   37,     3,   102, ...,     0,     0,     0],\n",
              "       [18792,    28,  1681, ...,    23,  3524,     1],\n",
              "       [   27,   133,   653, ...,     0,     0,     0],\n",
              "       ...,\n",
              "       [20731,    65,  1192, ...,     0,     0,     0],\n",
              "       [20737,    31,     7, ...,     0,     0,     0],\n",
              "       [    3, 25038,    25, ...,     0,     0,     0]]), metrics={'test_loss': 35.453800201416016, 'test_rouge1': 0.0525120624653424, 'test_rouge2': 0.013971405879526238, 'test_rougeL': 0.04647964244109935, 'test_rougeLsum': 0.04838561305019698, 'test_runtime': 1022.3317, 'test_samples_per_second': 2.934, 'test_steps_per_second': 2.934})"
            ]
          },
          "metadata": {},
          "execution_count": 19
        }
      ]
    },
    {
      "cell_type": "code",
      "source": [
        "human_eval(questions, model, tokenizer)"
      ],
      "metadata": {
        "colab": {
          "base_uri": "https://localhost:8080/"
        },
        "outputId": "6e1ef230-ed92-4183-a688-841260b4aa53",
        "id": "4QHSTf2VpsEr"
      },
      "execution_count": null,
      "outputs": [
        {
          "output_type": "stream",
          "name": "stdout",
          "text": [
            "\n",
            "Question: What is the difference between list and tuple?\n",
            "<pad> list of tuples</s>\n",
            "\n",
            "Question: How to create a new text file in Python?\n",
            "<pad>ctrl+ctrl+ctrl+ctrl+ctrl+ctrl+ctrl+ctrl+ctrl+ctrl+ctrl+ctrl+ctrl+ctrl+ctrl+ctrl+ctrl+ctrl+ctrl+ctrl+ctrl+ctrl+ctrl+ctrl+ctrl+ctrl+ctrl+ctrl+ctrl+\n",
            "ctrl+ctrl+ctrl+ctrl+ctrl+ctrl+ctrl+ctrl+ctrl+ctrl+ctrl+ctrl+ctrl+ctrl+ctrl+ctrl+ctrl+ctrl+ctrl+ctrl+ctrl+ctrl+ctrl+ctrl+ctrl+ctrl+ctrl+ctrl+ctrl+ctrl+\n",
            "ctrl+ctrl+ctrl+ctrl+ctrl+ctrl+ctrl+ctrl+ctrl+ctrl+ctrl+ctrl+ctrl+ctrl+ctrl+ctrl+ctrl+ctrl+ctrl+ctrl+ctrl+ctrl+ctrl+ctrl+ctrl+ctrl+ctrl+ctrl+ctrl+ctrl+\n",
            "ctrl+ctrl+ctrl+ctrl+ctrl+ctrl+ctrl+ctrl+ctrl+ctrl+ctrl+ctrl+ctrl+c\n",
            "\n",
            "Question: How to install Numpy?\n",
            "<pad> apk</s>\n",
            "\n",
            "Question: How to add 2 lists together?\n",
            "<pad> Add the first list to the second list.</s>\n",
            "\n",
            "Question: How to remove a specific element from a list in Python?\n",
            "<pad> if the element is not in a list, you can remove it by removing it from the list.</s>\n",
            "\n",
            "Question: How to find the index of an element in a list in Python?\n",
            "<pad> <unk> <unk> <unk> <unk> <unk> <unk> <unk> <unk> <unk> <unk> <unk> <unk> <unk> <unk> <unk> <unk> <unk> <unk> <unk> <unk> <unk> <unk> <unk> <unk>\n",
            "<unk> <unk> <unk> <unk> <unk> <unk> <unk> <unk> <unk> <unk> <unk> <unk> <unk> <unk> <unk> <unk> <unk> <unk> <unk> <unk> <unk> <unk> <unk> <unk> <unk>\n",
            "<unk> <unk> <unk> <unk> <unk> <unk> <unk> <unk> <unk> <unk> <unk> <unk> <unk> <unk> <unk> <unk> <unk> <unk> <unk> <unk> <unk> <unk> <unk> <unk> <unk>\n",
            "<unk> <unk> <unk> <unk> <unk> <unk> <unk> <unk> <unk> <unk> <unk> <unk> <unk> <unk> <unk> <unk> <unk> <unk> <unk> <unk> <unk> <unk> <unk> <unk> <unk>\n",
            "<unk> <unk> <unk> <unk> <unk> <unk> <unk> <unk> <unk> <unk> <unk> <unk> <unk> <unk> <unk> <unk> <unk> <unk> <unk> <unk> <unk> <unk> <unk> <unk> <unk>\n",
            "<unk> <unk> <unk> <unk> <unk> <unk> <unk> <unk> <unk> <unk> <unk> <unk> <unk> <unk> <unk> <unk> <unk> <unk> <unk> <unk> <unk> <unk> <unk> <unk> <unk>\n",
            "<unk> <unk> <unk> <unk> <unk> <unk> <unk> <unk> <unk> <unk> <unk> <unk> <unk> <unk> <unk> <unk> <unk> <unk> <unk> <unk> <unk> <unk> <unk> <unk> <unk>\n",
            "<unk> <unk> <unk> <unk> <unk> <unk> <unk> <unk> <unk> <unk> <unk> <unk> <unk> <unk> <unk> <unk> <unk> <unk> <unk> <unk> <unk> <unk> <unk> <unk> <unk>\n",
            "<unk> <unk> <unk> <unk> <unk> <unk> <unk> <unk> <unk> <unk> <unk> <unk> <unk> <unk> <unk> <unk> <unk> <unk> <unk> <unk> <unk> <unk> <unk> <unk> <unk>\n",
            "<unk> <unk> <unk> <unk> <unk> <unk> <unk> <unk> <unk> <unk> <unk> <unk> <unk> <unk> <unk> <unk> <unk> <unk> <unk> <unk> <unk> <unk> <unk> <unk> <unk>\n",
            "<unk> <unk> <unk> <unk> <unk> <unk> <unk>\n"
          ]
        }
      ]
    },
    {
      "cell_type": "markdown",
      "source": [
        "###Train/Finetune"
      ],
      "metadata": {
        "id": "_syVbakh7RAA"
      }
    },
    {
      "cell_type": "code",
      "source": [
        "trainer.train()"
      ],
      "metadata": {
        "colab": {
          "base_uri": "https://localhost:8080/",
          "height": 328
        },
        "id": "NDX1g8Fy3irx",
        "outputId": "ea768fc7-8556-447a-f387-11dec1ac70a3"
      },
      "execution_count": null,
      "outputs": [
        {
          "output_type": "display_data",
          "data": {
            "text/plain": [
              "<IPython.core.display.HTML object>"
            ],
            "text/html": [
              "\n",
              "    <div>\n",
              "      \n",
              "      <progress value='12750' max='12750' style='width:300px; height:20px; vertical-align: middle;'></progress>\n",
              "      [12750/12750 3:43:37, Epoch 3/3]\n",
              "    </div>\n",
              "    <table border=\"1\" class=\"dataframe\">\n",
              "  <thead>\n",
              " <tr style=\"text-align: left;\">\n",
              "      <th>Epoch</th>\n",
              "      <th>Training Loss</th>\n",
              "      <th>Validation Loss</th>\n",
              "      <th>Rouge1</th>\n",
              "      <th>Rouge2</th>\n",
              "      <th>Rougel</th>\n",
              "      <th>Rougelsum</th>\n",
              "    </tr>\n",
              "  </thead>\n",
              "  <tbody>\n",
              "    <tr>\n",
              "      <td>1</td>\n",
              "      <td>0.949000</td>\n",
              "      <td>0.858384</td>\n",
              "      <td>0.128639</td>\n",
              "      <td>0.024394</td>\n",
              "      <td>0.101321</td>\n",
              "      <td>0.112149</td>\n",
              "    </tr>\n",
              "    <tr>\n",
              "      <td>2</td>\n",
              "      <td>0.845900</td>\n",
              "      <td>0.830757</td>\n",
              "      <td>0.132285</td>\n",
              "      <td>0.028386</td>\n",
              "      <td>0.104900</td>\n",
              "      <td>0.115730</td>\n",
              "    </tr>\n",
              "    <tr>\n",
              "      <td>3</td>\n",
              "      <td>0.793000</td>\n",
              "      <td>0.823194</td>\n",
              "      <td>0.129957</td>\n",
              "      <td>0.028096</td>\n",
              "      <td>0.103536</td>\n",
              "      <td>0.114265</td>\n",
              "    </tr>\n",
              "  </tbody>\n",
              "</table><p>"
            ]
          },
          "metadata": {}
        },
        {
          "output_type": "stream",
          "name": "stderr",
          "text": [
            "/usr/local/lib/python3.10/dist-packages/transformers/generation/utils.py:1141: UserWarning: Using the model-agnostic default `max_length` (=20) to control the generation length. We recommend setting `max_new_tokens` to control the maximum length of the generation.\n",
            "  warnings.warn(\n",
            "/usr/local/lib/python3.10/dist-packages/transformers/generation/utils.py:1141: UserWarning: Using the model-agnostic default `max_length` (=20) to control the generation length. We recommend setting `max_new_tokens` to control the maximum length of the generation.\n",
            "  warnings.warn(\n",
            "/usr/local/lib/python3.10/dist-packages/transformers/generation/utils.py:1141: UserWarning: Using the model-agnostic default `max_length` (=20) to control the generation length. We recommend setting `max_new_tokens` to control the maximum length of the generation.\n",
            "  warnings.warn(\n"
          ]
        },
        {
          "output_type": "execute_result",
          "data": {
            "text/plain": [
              "TrainOutput(global_step=12750, training_loss=0.8952044115253524, metrics={'train_runtime': 13418.6329, 'train_samples_per_second': 3.801, 'train_steps_per_second': 0.95, 'total_flos': 3.4922624974848e+16, 'train_loss': 0.8952044115253524, 'epoch': 3.0})"
            ]
          },
          "metadata": {},
          "execution_count": 21
        }
      ]
    },
    {
      "cell_type": "markdown",
      "source": [
        "###Test after training"
      ],
      "metadata": {
        "id": "uOR8EV4Fx6sZ"
      }
    },
    {
      "cell_type": "code",
      "source": [
        "trainer.predict(tokenized_test)"
      ],
      "metadata": {
        "colab": {
          "base_uri": "https://localhost:8080/",
          "height": 315
        },
        "id": "Q85iTWnlusZm",
        "outputId": "eeca794b-bc77-4764-d5d5-d4e5c8a7bd02"
      },
      "execution_count": null,
      "outputs": [
        {
          "output_type": "stream",
          "name": "stderr",
          "text": [
            "/usr/local/lib/python3.10/dist-packages/transformers/generation/utils.py:1141: UserWarning: Using the model-agnostic default `max_length` (=20) to control the generation length. We recommend setting `max_new_tokens` to control the maximum length of the generation.\n",
            "  warnings.warn(\n"
          ]
        },
        {
          "output_type": "display_data",
          "data": {
            "text/plain": [
              "<IPython.core.display.HTML object>"
            ],
            "text/html": []
          },
          "metadata": {}
        },
        {
          "output_type": "execute_result",
          "data": {
            "text/plain": [
              "PredictionOutput(predictions=array([[   0,  148,   54, ...,    8, 4735,    5],\n",
              "       [   0,  148,  174, ..., 3870,    5,   17],\n",
              "       [   0,  148,   54, ..., 1748,  599,   52],\n",
              "       ...,\n",
              "       [   0,  148,   54, ...,  284, 1368,   16],\n",
              "       [   0,  148,   54, ...,    9,  115,   75],\n",
              "       [   0,  148,   54, ...,    7, 4830,    3]]), label_ids=array([[   37,     3,   102, ...,     0,     0,     0],\n",
              "       [18792,    28,  1681, ...,    23,  3524,     1],\n",
              "       [   27,   133,   653, ...,     0,     0,     0],\n",
              "       ...,\n",
              "       [20731,    65,  1192, ...,     0,     0,     0],\n",
              "       [20737,    31,     7, ...,     0,     0,     0],\n",
              "       [    3, 25038,    25, ...,     0,     0,     0]]), metrics={'test_loss': 0.8326656818389893, 'test_rouge1': 0.12872022658262555, 'test_rouge2': 0.027800673045522507, 'test_rougeL': 0.1026371043273614, 'test_rougeLsum': 0.11302472577963663, 'test_runtime': 1375.4494, 'test_samples_per_second': 2.181, 'test_steps_per_second': 2.181})"
            ]
          },
          "metadata": {},
          "execution_count": 19
        }
      ]
    },
    {
      "cell_type": "code",
      "source": [
        "human_eval(questions, finetuned_model, tokenizer)"
      ],
      "metadata": {
        "colab": {
          "base_uri": "https://localhost:8080/"
        },
        "id": "IXuIOFbHqURT",
        "outputId": "743feef9-8b2f-4c09-c2b0-57dff5064ae5"
      },
      "execution_count": null,
      "outputs": [
        {
          "output_type": "stream",
          "name": "stdout",
          "text": [
            "\n",
            "Question: What is the difference between list and tuple?\n",
            "<pad>Lists are a list of lists. They are a type of tuple. They are a type of tuple. They are a type of tuple. They are a type of tuple. They are a\n",
            "type of tuple. They are a type of tuple. They are a type of tuple. They are a type of tuple. They are a type of tuple. They are a type of tuple. They\n",
            "are a type of tuple. They are a type of tuple. They are a type of tuple. They are a type of tuple. They are a type of tuple. They are a type of tuple.\n",
            "They are a type of tuple. They are a type of tuple. They are a type of tuple. They are a type of tuple. They are a type of tuple. They are a type of\n",
            "tuple. They are a type of tuple. They are a type of tuple. They are a type of tuple. They are a type of tuple. They are a type of tuple. They are a\n",
            "type of tuple. They are a type of tuple. They are a type of tuple. They are a type of tuple. They are a type of tuple. They are a type of tuple. They\n",
            "are a type of tuple. They are a type of tuple. They are a type of tuple. They are a type of tuple. They are a type of tuple. They are a type of tuple.\n",
            "They are a type of tuple. They are a type of tuple. They are a type of tuple. They are a type of tuple. They are a type of tuple. They are a type of\n",
            "tuple. They are a type of t\n",
            "\n",
            "Question: How to create a new text file in Python?\n",
            "<pad> You can use a python script to create a new file. import os import sys import os.path f = os.path.join(os.path.join(f, '/path/to/file.txt'))\n",
            "f.write('<unk> n'.join(f))</s>\n",
            "\n",
            "Question: How to install Numpy?\n",
            "<pad>Numpy is a Python library. It is a Python library. You can install it using the following command: python -m python -m python -m python -m python\n",
            "-m python -m python -m python -m python -m python -m python -m python -m python -m python -m python -m python -m python -m python -m python -m python\n",
            "-m python -m python -m python -m python -m python -m python -m python -m python -m python -m python -m python -m python -m python -m python -m python\n",
            "-m python -m python -m python -m python -m python -m python -m python -m python -m python -m python -m python -m python -m python -m python -m python\n",
            "-m python -m python -m python -m python -m python -m python -m python -m python -m python -m python -m python -\n",
            "\n",
            "Question: How to add 2 lists together?\n",
            "<pad>You can use a list comprehension: >>> l = [] >>> l.append(['a', 'b']) >>> l.append(['c', 'd']) >>> l.append(['c', 'd']) >>> l.append(['c', 'd'])\n",
            ">>> l.append(['c', 'd']) >>> l.append(['c', 'd']) >>> l.append(['c', 'd']) >>> l.append(['c', 'd']) >>> l.append(['c', 'd']) >>> l.append(['c', 'd'])\n",
            ">>> l.append(['c', 'd']) >>> l.append(['c', 'd']) >>> l.append(['c', 'd']) >>> l.append(['c', 'd']) >>> l.append(['c', 'd']) >>> l.append(['c', 'd'])\n",
            ">>> l.append(['c', 'd']) >>> l.append(['c', 'd']) >>> l.append(['c', 'd']) >>> l.append(['c', 'd']) >>> l.append(['c', 'd']) >>> l.append(['c', 'd'])\n",
            ">>> l.append(['c', 'd']) >>> l.append(['c', 'd']) >>> l.append(['c', 'd']) >>> l.append(['c', 'd']) >>>\n",
            "\n",
            "Question: How to remove a specific element from a list in Python?\n",
            "<pad> You can use a list comprehension: l = [] for i in l: if i not in l: l.append(i)</s>\n",
            "\n",
            "Question: How to find the index of an element in a list in Python?\n",
            "<pad> You can use a list comprehension: l = [] for i in l: if i not in l: l.append(i) else: l.append(i)</s>\n"
          ]
        }
      ]
    },
    {
      "cell_type": "code",
      "source": [
        "current_count += 1\n",
        "write_counter(current_count)"
      ],
      "metadata": {
        "id": "qNhJQCMh7wKg"
      },
      "execution_count": null,
      "outputs": []
    },
    {
      "cell_type": "markdown",
      "source": [
        "#Second 20000 samples"
      ],
      "metadata": {
        "id": "O5Dt0SZIfjRP"
      }
    },
    {
      "cell_type": "markdown",
      "source": [
        "###Train/Finetune"
      ],
      "metadata": {
        "id": "WuU-CdeffjRX"
      }
    },
    {
      "cell_type": "code",
      "source": [
        "trainer.train()"
      ],
      "metadata": {
        "colab": {
          "base_uri": "https://localhost:8080/",
          "height": 267
        },
        "outputId": "6ce0851d-5d82-477d-e6cb-1b2e53992e9a",
        "id": "O2dcPnazfwcd"
      },
      "execution_count": null,
      "outputs": [
        {
          "data": {
            "text/html": [
              "\n",
              "    <div>\n",
              "      \n",
              "      <progress value='8501' max='12750' style='width:300px; height:20px; vertical-align: middle;'></progress>\n",
              "      [ 8501/12750 3:49:34 < 1:54:46, 0.62 it/s, Epoch 2/3]\n",
              "    </div>\n",
              "    <table border=\"1\" class=\"dataframe\">\n",
              "  <thead>\n",
              " <tr style=\"text-align: left;\">\n",
              "      <th>Epoch</th>\n",
              "      <th>Training Loss</th>\n",
              "      <th>Validation Loss</th>\n",
              "      <th>Rouge1</th>\n",
              "      <th>Rouge2</th>\n",
              "      <th>Rougel</th>\n",
              "      <th>Rougelsum</th>\n",
              "    </tr>\n",
              "  </thead>\n",
              "  <tbody>\n",
              "    <tr>\n",
              "      <td>1</td>\n",
              "      <td>1.331300</td>\n",
              "      <td>1.235729</td>\n",
              "      <td>0.177930</td>\n",
              "      <td>0.057260</td>\n",
              "      <td>0.141253</td>\n",
              "      <td>0.152557</td>\n",
              "    </tr>\n",
              "  </tbody>\n",
              "</table><p>\n",
              "    <div>\n",
              "      \n",
              "      <progress value='2705' max='3000' style='width:300px; height:20px; vertical-align: middle;'></progress>\n",
              "      [2705/3000 2:08:35 < 14:01, 0.35 it/s]\n",
              "    </div>\n",
              "    "
            ],
            "text/plain": [
              "<IPython.core.display.HTML object>"
            ]
          },
          "metadata": {},
          "output_type": "display_data"
        },
        {
          "output_type": "display_data",
          "data": {
            "text/plain": [
              "<IPython.core.display.HTML object>"
            ],
            "text/html": [
              "\n",
              "    <div>\n",
              "      \n",
              "      <progress value='12751' max='12750' style='width:300px; height:20px; vertical-align: middle;'></progress>\n",
              "      [12750/12750 6:46:49, Epoch 3/3]\n",
              "    </div>\n",
              "    <table border=\"1\" class=\"dataframe\">\n",
              "  <thead>\n",
              " <tr style=\"text-align: left;\">\n",
              "      <th>Epoch</th>\n",
              "      <th>Training Loss</th>\n",
              "      <th>Validation Loss</th>\n",
              "      <th>Rouge1</th>\n",
              "      <th>Rouge2</th>\n",
              "      <th>Rougel</th>\n",
              "      <th>Rougelsum</th>\n",
              "    </tr>\n",
              "  </thead>\n",
              "  <tbody>\n",
              "    <tr>\n",
              "      <td>1</td>\n",
              "      <td>1.331300</td>\n",
              "      <td>1.235729</td>\n",
              "      <td>0.177930</td>\n",
              "      <td>0.057260</td>\n",
              "      <td>0.141253</td>\n",
              "      <td>0.152557</td>\n",
              "    </tr>\n",
              "    <tr>\n",
              "      <td>2</td>\n",
              "      <td>1.248900</td>\n",
              "      <td>1.211209</td>\n",
              "      <td>0.193803</td>\n",
              "      <td>0.063188</td>\n",
              "      <td>0.151754</td>\n",
              "      <td>0.165221</td>\n",
              "    </tr>\n",
              "  </tbody>\n",
              "</table><p>\n",
              "    <div>\n",
              "      \n",
              "      <progress value='1232' max='3000' style='width:300px; height:20px; vertical-align: middle;'></progress>\n",
              "      [1232/3000 1:01:11 < 1:27:53, 0.34 it/s]\n",
              "    </div>\n",
              "    "
            ]
          },
          "metadata": {}
        }
      ]
    },
    {
      "cell_type": "markdown",
      "source": [
        "###Test after training"
      ],
      "metadata": {
        "id": "gHH_WzPUfjRX"
      }
    },
    {
      "cell_type": "code",
      "source": [
        "trainer.predict(tokenized_test)"
      ],
      "metadata": {
        "colab": {
          "base_uri": "https://localhost:8080/",
          "height": 260
        },
        "outputId": "60058b74-5d2f-4e44-b15f-5ea822935434",
        "id": "mgUlTWInfjRX"
      },
      "execution_count": null,
      "outputs": [
        {
          "output_type": "display_data",
          "data": {
            "text/plain": [
              "<IPython.core.display.HTML object>"
            ],
            "text/html": []
          },
          "metadata": {}
        },
        {
          "output_type": "execute_result",
          "data": {
            "text/plain": [
              "PredictionOutput(predictions=array([[    0, 20737,  1843, ...,   720,   315,     5],\n",
              "       [    0,   148,   174, ...,  -100,  -100,  -100],\n",
              "       [    0,   148,    54, ...,    17,    38,  4752],\n",
              "       ...,\n",
              "       [    0,   148,    54, ...,    61,     3,    89],\n",
              "       [    0,    37,  1053, ...,   356,    19,   990],\n",
              "       [    0,   148,    54, ...,  -100,  -100,  -100]]), label_ids=array([[18562,    53,   225, ...,     0,     0,     0],\n",
              "       [  148,    33,  3586, ...,     0,     0,     0],\n",
              "       [  282,    25,    31, ...,     7,  2423,     1],\n",
              "       ...,\n",
              "       [    3,     7,    17, ...,     0,     0,     0],\n",
              "       [  148,    33,     3, ...,     0,     0,     0],\n",
              "       [    3, 19832,  2384, ...,  9899,    32,     1]]), metrics={'test_loss': 1.1867262125015259, 'test_rouge1': 0.20348699399166603, 'test_rouge2': 0.06452706109283138, 'test_rougeL': 0.15733348580597084, 'test_rougeLsum': 0.17192710083284685, 'test_runtime': 5443.369, 'test_samples_per_second': 0.367, 'test_steps_per_second': 0.367})"
            ]
          },
          "metadata": {},
          "execution_count": 24
        }
      ]
    },
    {
      "cell_type": "code",
      "source": [
        "human_eval(questions, finetuned_model, tokenizer)"
      ],
      "metadata": {
        "colab": {
          "base_uri": "https://localhost:8080/"
        },
        "outputId": "a606345b-b223-4e92-9560-e2b66b113e9e",
        "id": "axxMfK1HfjRX"
      },
      "execution_count": null,
      "outputs": [
        {
          "output_type": "stream",
          "name": "stdout",
          "text": [
            "\n",
            "Question: What is the difference between list and tuple?\n",
            "<pad> Lists are a type of list, and tuples are a type of tuple. Lists are a type of list, and tuples are a type of tuple. Lists are a type of list,\n",
            "and tuples are a type of tuple.</s>\n",
            "\n",
            "Question: How to create a new text file in Python?\n",
            "<pad> You can use os.path.join to create a new file. import os os.path.join(os.path.join(os.path.dirname(filename), '.'))</s>\n",
            "\n",
            "Question: How to install Numpy?\n",
            "<pad> You can download the numpy package from here: http://www.np.np.ac.uk/downloads/np.np.py</s>\n",
            "\n",
            "Question: How to add 2 lists together?\n",
            "<pad> You can use zip() to combine the two lists together: >>> lst = [1,2,3] >>> lst.append([1,2,3]) >>> lst [1, 2, 3]</s>\n",
            "\n",
            "Question: How to remove a specific element from a list in Python?\n",
            "<pad> You can use a list comprehension: >>> l = [1,2,3] >>> l.remove('a') [1, 2, 3]</s>\n",
            "\n",
            "Question: How to find the index of an element in a list in Python?\n",
            "<pad> You can use the id() function to find the index of the element in the list: >>> l = [1,2,3] >>> id(l) 0 >>> id(l) 1 >>> id(l) 2 >>> id(l) 3 >>>\n",
            "id(l) 4 >>> id(l) 5</s>\n"
          ]
        }
      ]
    },
    {
      "cell_type": "code",
      "source": [
        "current_count += 1\n",
        "write_counter(current_count)"
      ],
      "metadata": {
        "id": "Qp0JaAFBfjRX"
      },
      "execution_count": null,
      "outputs": []
    },
    {
      "cell_type": "markdown",
      "source": [
        "#Third 20000 samples"
      ],
      "metadata": {
        "id": "vCbRefjB_FG2"
      }
    },
    {
      "cell_type": "markdown",
      "source": [
        "###Train/Finetune"
      ],
      "metadata": {
        "id": "qn3n_QhJ_FG_"
      }
    },
    {
      "cell_type": "code",
      "source": [
        "trainer.train()"
      ],
      "metadata": {
        "colab": {
          "base_uri": "https://localhost:8080/",
          "height": 204
        },
        "outputId": "60da6be7-f450-4ba8-f363-e45247d68b1a",
        "id": "Q9zqKHOs_FG_"
      },
      "execution_count": null,
      "outputs": [
        {
          "output_type": "display_data",
          "data": {
            "text/plain": [
              "<IPython.core.display.HTML object>"
            ],
            "text/html": [
              "\n",
              "    <div>\n",
              "      \n",
              "      <progress value='14250' max='14250' style='width:300px; height:20px; vertical-align: middle;'></progress>\n",
              "      [14250/14250 4:06:58, Epoch 3/3]\n",
              "    </div>\n",
              "    <table border=\"1\" class=\"dataframe\">\n",
              "  <thead>\n",
              " <tr style=\"text-align: left;\">\n",
              "      <th>Epoch</th>\n",
              "      <th>Training Loss</th>\n",
              "      <th>Validation Loss</th>\n",
              "      <th>Rouge1</th>\n",
              "      <th>Rouge2</th>\n",
              "      <th>Rougel</th>\n",
              "      <th>Rougelsum</th>\n",
              "    </tr>\n",
              "  </thead>\n",
              "  <tbody>\n",
              "    <tr>\n",
              "      <td>1</td>\n",
              "      <td>1.280100</td>\n",
              "      <td>1.177442</td>\n",
              "      <td>0.187443</td>\n",
              "      <td>0.059865</td>\n",
              "      <td>0.148825</td>\n",
              "      <td>0.159279</td>\n",
              "    </tr>\n",
              "    <tr>\n",
              "      <td>2</td>\n",
              "      <td>1.165100</td>\n",
              "      <td>1.156734</td>\n",
              "      <td>0.191937</td>\n",
              "      <td>0.061978</td>\n",
              "      <td>0.152103</td>\n",
              "      <td>0.163683</td>\n",
              "    </tr>\n",
              "    <tr>\n",
              "      <td>3</td>\n",
              "      <td>1.119900</td>\n",
              "      <td>1.153487</td>\n",
              "      <td>0.204653</td>\n",
              "      <td>0.068116</td>\n",
              "      <td>0.161000</td>\n",
              "      <td>0.174130</td>\n",
              "    </tr>\n",
              "  </tbody>\n",
              "</table><p>"
            ]
          },
          "metadata": {}
        },
        {
          "output_type": "execute_result",
          "data": {
            "text/plain": [
              "TrainOutput(global_step=14250, training_loss=1.197973553573876, metrics={'train_runtime': 14819.1915, 'train_samples_per_second': 3.846, 'train_steps_per_second': 0.962, 'total_flos': 2.28698256384e+16, 'train_loss': 1.197973553573876, 'epoch': 3.0})"
            ]
          },
          "metadata": {},
          "execution_count": 39
        }
      ]
    },
    {
      "cell_type": "markdown",
      "source": [
        "###Test after training"
      ],
      "metadata": {
        "id": "H08uUZR0_FG_"
      }
    },
    {
      "cell_type": "code",
      "source": [
        "trainer.predict(tokenized_test)"
      ],
      "metadata": {
        "id": "9ScMsCE0_FG_",
        "colab": {
          "base_uri": "https://localhost:8080/",
          "height": 260
        },
        "outputId": "c266b678-1325-4804-f570-d1f1b2dfdc7c"
      },
      "execution_count": null,
      "outputs": [
        {
          "output_type": "display_data",
          "data": {
            "text/plain": [
              "<IPython.core.display.HTML object>"
            ],
            "text/html": []
          },
          "metadata": {}
        },
        {
          "output_type": "execute_result",
          "data": {
            "text/plain": [
              "PredictionOutput(predictions=array([[   0,  148,   54, ..., -100, -100, -100],\n",
              "       [   0,  148,   54, ..., 1982,    5, 2962],\n",
              "       [   0,  148,   54, ..., 1042,    5,  148],\n",
              "       ...,\n",
              "       [   0,  148,  174, ..., -100, -100, -100],\n",
              "       [   0,  148,  174, ..., -100, -100, -100],\n",
              "       [   0,  148,   54, ...,    7,    5,   51]]), label_ids=array([[ 432,   25,  174, ...,    0,    0,    0],\n",
              "       [  96,  532,  381, ...,    0,    0,    0],\n",
              "       [1626, 9525,  751, ..., 1218, 2594,    1],\n",
              "       ...,\n",
              "       [  86, 8389,   19, ..., 9400, 2423,    1],\n",
              "       [   3,  157, 2910, ...,    0,    0,    0],\n",
              "       [ 148,   54,  474, ...,    5,   26,    1]]), metrics={'test_loss': 1.1789946556091309, 'test_rouge1': 0.2004616707625099, 'test_rouge2': 0.06605996745040851, 'test_rougeL': 0.15708727662688343, 'test_rougeLsum': 0.17095621021480722, 'test_runtime': 5386.2864, 'test_samples_per_second': 0.371, 'test_steps_per_second': 0.371})"
            ]
          },
          "metadata": {},
          "execution_count": 19
        }
      ]
    },
    {
      "cell_type": "code",
      "source": [
        "human_eval(questions, finetuned_model, tokenizer)"
      ],
      "metadata": {
        "colab": {
          "base_uri": "https://localhost:8080/"
        },
        "outputId": "0b6d6dad-c064-4426-a9cc-f89b1289f761",
        "id": "7Wjs3PJP_FG_"
      },
      "execution_count": null,
      "outputs": [
        {
          "output_type": "stream",
          "name": "stdout",
          "text": [
            "\n",
            "Question: What is the difference between list and tuple?\n",
            "<pad> Lists are a common way to access a list or tuple. Lists are a common way to access a list or tuple. Lists are a common way to access a list or\n",
            "tuple. Lists are a common way to access a list or tuple. Lists are a common way to access a list or tuple. Lists are a common way to access a list or\n",
            "tuple. Lists are a common way to access a list or tuple. Lists are a common way to access a list or tuple. Lists are a common way to access a list or\n",
            "tuple. Lists are a common way to access a list or tuple. Lists are a common way to access a list or tuple. Lists are a common way to access a list or\n",
            "tuple. Lists are a common way to access a list or tuple. Lists are a common way to access a list or tuple. Lists are a common way to access a list or\n",
            "tuple. Lists are a common way to access a list or tuple. Lists are a common way</s>\n",
            "\n",
            "Question: How to create a new text file in Python?\n",
            "<pad> You can use os.path.join() to create a new file. import os import sys import os.path f = open('new_file.txt', 'r') f.write('<unk>\n",
            "n'.join(f))</s>\n",
            "\n",
            "Question: How to install Numpy?\n",
            "<pad> You can install numpy using pip.</s>\n",
            "\n",
            "Question: How to add 2 lists together?\n",
            "<pad> You can use zip() to combine two lists together: >>> zip(*[1,2,3]) [1, 2, 3]</s>\n",
            "\n",
            "Question: How to remove a specific element from a list in Python?\n",
            "<pad> You can use a list comprehension: l = [] for i in range(len(l)): l.append(l[i])</s>\n",
            "\n",
            "Question: How to find the index of an element in a list in Python?\n",
            "<pad> You can use a list comprehension: l = [1,2,3,4,5] l.append(l[0])</s>\n"
          ]
        }
      ]
    },
    {
      "cell_type": "code",
      "source": [
        "current_count"
      ],
      "metadata": {
        "colab": {
          "base_uri": "https://localhost:8080/"
        },
        "id": "CdORYN7Rmk5U",
        "outputId": "507e288c-5987-404d-9518-610a9930b979"
      },
      "execution_count": null,
      "outputs": [
        {
          "output_type": "execute_result",
          "data": {
            "text/plain": [
              "2"
            ]
          },
          "metadata": {},
          "execution_count": 18
        }
      ]
    },
    {
      "cell_type": "code",
      "source": [
        "current_count += 1\n",
        "write_counter(current_count)"
      ],
      "metadata": {
        "id": "S-nzOsvf_FG_"
      },
      "execution_count": null,
      "outputs": []
    }
  ]
}